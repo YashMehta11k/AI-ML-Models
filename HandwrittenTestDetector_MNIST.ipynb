{
  "nbformat": 4,
  "nbformat_minor": 0,
  "metadata": {
    "colab": {
      "provenance": []
    },
    "kernelspec": {
      "name": "python3",
      "display_name": "Python 3"
    },
    "language_info": {
      "name": "python"
    }
  },
  "cells": [
    {
      "cell_type": "markdown",
      "source": [
        "Convolutional Neural Networks (CNNs) are the current state-of-art architecture mainly used for the image classification tasks."
      ],
      "metadata": {
        "id": "zN3Lk2YXxlRx"
      }
    },
    {
      "cell_type": "markdown",
      "source": [
        "Step 1 :Importing the module"
      ],
      "metadata": {
        "id": "6wPApTgQx20M"
      }
    },
    {
      "cell_type": "code",
      "source": [
        "import tensorflow as tf"
      ],
      "metadata": {
        "id": "shzVRUw1ydBE"
      },
      "execution_count": null,
      "outputs": []
    },
    {
      "cell_type": "code",
      "execution_count": null,
      "metadata": {
        "colab": {
          "base_uri": "https://localhost:8080/"
        },
        "id": "JU3570cFxPWV",
        "outputId": "5def471e-cac9-41ea-f217-78dfba1d268f"
      },
      "outputs": [
        {
          "output_type": "execute_result",
          "data": {
            "text/plain": [
              "(60000, 28, 28)"
            ]
          },
          "metadata": {},
          "execution_count": 4
        }
      ],
      "source": [
        "mnist = tf.keras.datasets.mnist\n",
        "\n",
        "# Divide into training and test dataset\n",
        "(x_train, y_train),(x_test, y_test) = mnist.load_data()\n",
        "x_train.shape\n"
      ]
    },
    {
      "cell_type": "markdown",
      "source": [
        "This mens each of these images is 28 pixels wide and 28 pixels high"
      ],
      "metadata": {
        "id": "0idcI2lXyr5d"
      }
    },
    {
      "cell_type": "code",
      "source": [
        "import matplotlib.pyplot as plt\n",
        "plt.imshow(x_train[0])\n",
        "plt.show()\n",
        "plt.imshow(x_train[0], cmap = plt.cm.binary)#to convert it into the grey scale\n",
        "plt.show"
      ],
      "metadata": {
        "colab": {
          "base_uri": "https://localhost:8080/",
          "height": 861
        },
        "id": "dObC21NdywHf",
        "outputId": "4d7d487a-cd79-4f5d-8c5e-19feaaebbe9a"
      },
      "execution_count": null,
      "outputs": [
        {
          "output_type": "display_data",
          "data": {
            "text/plain": [
              "<Figure size 640x480 with 1 Axes>"
            ],
            "image/png": "[encoded data removed]"
          },
          "metadata": {}
        },
        {
          "output_type": "execute_result",
          "data": {
            "text/plain": [
              "<function matplotlib.pyplot.show(close=None, block=None)>"
            ]
          },
          "metadata": {},
          "execution_count": 6
        },
        {
          "output_type": "display_data",
          "data": {
            "text/plain": [
              "<Figure size 640x480 with 1 Axes>"
            ],
            "image/png": "[encoded data removed]"
          },
          "metadata": {}
        }
      ]
    },
    {
      "cell_type": "markdown",
      "source": [
        "Step 2: Normalization\n",
        "black and white but the value ranges from [0-255].  But for training, we have to convert this into [0-1]."
      ],
      "metadata": {
        "id": "Lr14s2tHzHOq"
      }
    },
    {
      "cell_type": "code",
      "source": [
        "x_train = tf.keras.utils.normalize(x_train, axis = 1)\n",
        "x_test = tf.keras.utils.normalize(x_test, axis = 1)\n",
        "plt.imshow(x_train[0], cmap = plt.cm.binary)\n",
        "print(\"The image is :\",y_train[0],\"\\n\\n\")#to verify if this set has the right label\n"
      ],
      "metadata": {
        "colab": {
          "base_uri": "https://localhost:8080/",
          "height": 483
        },
        "id": "790yxz35y1Vn",
        "outputId": "798692d4-ed88-44dd-fef7-0287b69f7d0d"
      },
      "execution_count": null,
      "outputs": [
        {
          "output_type": "stream",
          "name": "stdout",
          "text": [
            "The image is : 5 \n",
            "\n",
            "\n"
          ]
        },
        {
          "output_type": "display_data",
          "data": {
            "text/plain": [
              "<Figure size 640x480 with 1 Axes>"
            ],
            "image/png": "[encoded data removed]"
          },
          "metadata": {}
        }
      ]
    },
    {
      "cell_type": "markdown",
      "source": [
        "Step 3: Resizing the image for the CNN model"
      ],
      "metadata": {
        "id": "zir-HHqg0VVe"
      }
    },
    {
      "cell_type": "code",
      "source": [
        "import numpy as np\n",
        "IMG_SIZE=28\n",
        "\n",
        "x_trainr = np.array(x_train).reshape(-1, IMG_SIZE, IMG_SIZE, 1)\n",
        "x_testr = np.array(x_test).reshape(-1, IMG_SIZE, IMG_SIZE, 1)\n",
        "print(\"Training Samples dimension\", x_trainr.shape)\n",
        "print(\"Testing Samples dimension\", x_testr.shape)\n"
      ],
      "metadata": {
        "colab": {
          "base_uri": "https://localhost:8080/"
        },
        "id": "aYVEfasuzkvV",
        "outputId": "a8fcfd5b-8d58-4ef4-c726-9f3de57bfedf"
      },
      "execution_count": null,
      "outputs": [
        {
          "output_type": "stream",
          "name": "stdout",
          "text": [
            "Training Samples dimension (60000, 28, 28, 1)\n",
            "Testing Samples dimension (10000, 28, 28, 1)\n"
          ]
        }
      ]
    },
    {
      "cell_type": "markdown",
      "source": [
        "Step 4: Creating the nueral network model\n",
        "\n",
        "Five imp layers\n",
        "\n",
        "1.Sequential - A feedforward neural network\n",
        "\n",
        "2.Dense - A typical layer in our model\n",
        "\n",
        "3.Dropout - Is used to make the neural network more robust, by reducing overfitting\n",
        "\n",
        "4.Flatten - It is used to flatten the data for use in the dense layer\n",
        "\n",
        "5.Conv2d - We will be using a 2-Dimensional CNN\n",
        "\n",
        "6.MaxPooling2D - Pooling mainly helps in extracting sharp and smooth features. It is also done to reduce variance and computations. Max-pooling helps in extracting low-level features like edges, points, etc. While Avg-pooling goes for smooth features.\n",
        "\n"
      ],
      "metadata": {
        "id": "nDetjPJr0p_Q"
      }
    },
    {
      "cell_type": "code",
      "source": [
        "from tensorflow.keras.models import Sequential\n",
        "from tensorflow.keras.layers import Dense, Dropout, Activation, Flatten, Conv2D, MaxPooling2D\n",
        "\n",
        "model = Sequential()\n",
        "\n",
        "### First\n",
        "model.add(Conv2D(64, (3,3), input_shape = x_trainr.shape[1:])) # For first layer we have to mention the size of input\n",
        "model.add(Activation('relu'))\n",
        "model.add(MaxPooling2D(pool_size=(2,2)))\n",
        "\n",
        "### Second\n",
        "model.add(Conv2D(64, (3,3)))\n",
        "model.add(Activation('relu'))\n",
        "model.add(MaxPooling2D(pool_size=(2,2)))\n",
        "\n",
        "### Third\n",
        "model.add(Conv2D(64, (3,3)))\n",
        "model.add(Activation('relu'))\n",
        "model.add(MaxPooling2D(pool_size=(2,2)))\n",
        "\n",
        "### connected layer 1\n",
        "model.add(Flatten())\n",
        "model.add(Dense(64))\n",
        "model.add(Activation(\"relu\"))\n",
        "\n",
        "### connected layer 2\n",
        "model.add(Dense(32))\n",
        "model.add(Activation(\"relu\"))\n",
        "\n",
        "### output layer\n",
        "model.add(Dense(10))\n",
        "model.add(Activation(\"softmax\"))\n",
        "\n",
        "model.summary()"
      ],
      "metadata": {
        "colab": {
          "base_uri": "https://localhost:8080/"
        },
        "id": "H7J_tTOe0m65",
        "outputId": "4f8d40ac-e9cf-49f0-a1e8-765efbe4f2e5"
      },
      "execution_count": null,
      "outputs": [
        {
          "output_type": "stream",
          "name": "stdout",
          "text": [
            "Model: \"sequential_1\"\n",
            "_________________________________________________________________\n",
            " Layer (type)                Output Shape              Param #   \n",
            "=================================================================\n",
            " conv2d_3 (Conv2D)           (None, 26, 26, 64)        640       \n",
            "                                                                 \n",
            " activation_6 (Activation)   (None, 26, 26, 64)        0         \n",
            "                                                                 \n",
            " max_pooling2d_3 (MaxPooling  (None, 13, 13, 64)       0         \n",
            " 2D)                                                             \n",
            "                                                                 \n",
            " conv2d_4 (Conv2D)           (None, 11, 11, 64)        36928     \n",
            "                                                                 \n",
            " activation_7 (Activation)   (None, 11, 11, 64)        0         \n",
            "                                                                 \n",
            " max_pooling2d_4 (MaxPooling  (None, 5, 5, 64)         0         \n",
            " 2D)                                                             \n",
            "                                                                 \n",
            " conv2d_5 (Conv2D)           (None, 3, 3, 64)          36928     \n",
            "                                                                 \n",
            " activation_8 (Activation)   (None, 3, 3, 64)          0         \n",
            "                                                                 \n",
            " max_pooling2d_5 (MaxPooling  (None, 1, 1, 64)         0         \n",
            " 2D)                                                             \n",
            "                                                                 \n",
            " flatten_1 (Flatten)         (None, 64)                0         \n",
            "                                                                 \n",
            " dense_3 (Dense)             (None, 64)                4160      \n",
            "                                                                 \n",
            " activation_9 (Activation)   (None, 64)                0         \n",
            "                                                                 \n",
            " dense_4 (Dense)             (None, 32)                2080      \n",
            "                                                                 \n",
            " activation_10 (Activation)  (None, 32)                0         \n",
            "                                                                 \n",
            " dense_5 (Dense)             (None, 10)                330       \n",
            "                                                                 \n",
            " activation_11 (Activation)  (None, 10)                0         \n",
            "                                                                 \n",
            "=================================================================\n",
            "Total params: 81,066\n",
            "Trainable params: 81,066\n",
            "Non-trainable params: 0\n",
            "_________________________________________________________________\n"
          ]
        }
      ]
    },
    {
      "cell_type": "markdown",
      "source": [
        "After each layer the filters increases. This is because of how CNN works. After each layer, more complex features are detected and for it, more filters are used."
      ],
      "metadata": {
        "id": "guGez_i_2LWm"
      }
    },
    {
      "cell_type": "markdown",
      "source": [
        "Step 5: Compile and train the model"
      ],
      "metadata": {
        "id": "Ya1Xw-R12XKQ"
      }
    },
    {
      "cell_type": "code",
      "source": [
        "model.compile(loss=\"sparse_categorical_crossentropy\", optimizer=\"adam\", metrics=['accuracy'])\n",
        "\n",
        "model.fit(x_trainr, y_train, epochs=5, validation_split = 0.3)"
      ],
      "metadata": {
        "colab": {
          "base_uri": "https://localhost:8080/"
        },
        "id": "AtGvQo4x2GeR",
        "outputId": "cf59fc89-ae3c-4fdd-ca19-4de15a9a971c"
      },
      "execution_count": null,
      "outputs": [
        {
          "output_type": "stream",
          "name": "stdout",
          "text": [
            "Epoch 1/5\n",
            "1313/1313 [==============================] - 89s 67ms/step - loss: 0.3029 - accuracy: 0.9054 - val_loss: 0.1125 - val_accuracy: 0.9646\n",
            "Epoch 2/5\n",
            "1313/1313 [==============================] - 83s 63ms/step - loss: 0.1006 - accuracy: 0.9691 - val_loss: 0.1125 - val_accuracy: 0.9669\n",
            "Epoch 3/5\n",
            "1313/1313 [==============================] - 80s 61ms/step - loss: 0.0740 - accuracy: 0.9773 - val_loss: 0.0868 - val_accuracy: 0.9734\n",
            "Epoch 4/5\n",
            "1313/1313 [==============================] - 82s 63ms/step - loss: 0.0557 - accuracy: 0.9824 - val_loss: 0.0685 - val_accuracy: 0.9801\n",
            "Epoch 5/5\n",
            "1313/1313 [==============================] - 80s 61ms/step - loss: 0.0455 - accuracy: 0.9860 - val_loss: 0.0660 - val_accuracy: 0.9813\n"
          ]
        },
        {
          "output_type": "execute_result",
          "data": {
            "text/plain": [
              "<keras.callbacks.History at 0x7fc3984b30d0>"
            ]
          },
          "metadata": {},
          "execution_count": 14
        }
      ]
    },
    {
      "cell_type": "markdown",
      "source": [
        "Step 6: Predicting the model"
      ],
      "metadata": {
        "id": "C-E5pmhd21lx"
      }
    },
    {
      "cell_type": "code",
      "source": [
        "predictions = model.predict([x_testr])\n",
        "print(predictions,\"\\n\\n\")\n",
        "\n",
        "plt.imshow(x_test[0])\n",
        "print(\"The Number scanned is \",np.argmax(predictions[0]))\n"
      ],
      "metadata": {
        "colab": {
          "base_uri": "https://localhost:8080/",
          "height": 731
        },
        "id": "Mx-MtCmw2_gW",
        "outputId": "4c109fb3-db76-438c-af72-0f014bbb2a8a"
      },
      "execution_count": null,
      "outputs": [
        {
          "output_type": "stream",
          "name": "stdout",
          "text": [
            "313/313 [==============================] - 4s 14ms/step\n",
            "[[5.5119589e-09 2.2841011e-06 4.3462867e-05 ... 9.9995059e-01\n",
            "  7.0572885e-09 2.0689905e-07]\n",
            " [3.2057130e-07 1.1551750e-06 9.9999064e-01 ... 9.3695974e-07\n",
            "  1.0368984e-06 9.6394013e-09]\n",
            " [8.4004848e-09 9.9999624e-01 4.3092410e-08 ... 8.6707917e-07\n",
            "  2.1154507e-07 1.0710256e-08]\n",
            " ...\n",
            " [3.7518174e-13 1.4606445e-08 1.1931407e-10 ... 2.6541980e-09\n",
            "  1.9549714e-07 6.9532375e-06]\n",
            " [3.3241342e-04 1.7192569e-08 9.0901381e-07 ... 1.9499204e-08\n",
            "  1.6973645e-04 5.7593579e-06]\n",
            " [5.6605404e-06 6.2752271e-08 7.7510765e-07 ... 2.7465122e-10\n",
            "  1.0643536e-05 4.1293664e-08]] \n",
            "\n",
            "\n",
            "The Number scanned is  7\n"
          ]
        },
        {
          "output_type": "display_data",
          "data": {
            "text/plain": [
              "<Figure size 640x480 with 1 Axes>"
            ],
            "image/png": "[encoded data removed]"
          },
          "metadata": {}
        }
      ]
    },
    {
      "cell_type": "markdown",
      "source": [
        "Step 7: Testing the model of a image\n",
        "(found in kaggle)"
      ],
      "metadata": {
        "id": "eX6kcABA7-cg"
      }
    },
    {
      "cell_type": "code",
      "source": [
        "import cv2\n",
        "img = cv2.imread('testimage.jpg')\n",
        "plt.imshow(img)\n"
      ],
      "metadata": {
        "colab": {
          "base_uri": "https://localhost:8080/",
          "height": 448
        },
        "id": "sEdWnhSQ64ya",
        "outputId": "98ed4d75-6e55-4466-9a43-4d0acdc88d99"
      },
      "execution_count": null,
      "outputs": [
        {
          "output_type": "execute_result",
          "data": {
            "text/plain": [
              "<matplotlib.image.AxesImage at 0x7fc34db329b0>"
            ]
          },
          "metadata": {},
          "execution_count": 25
        },
        {
          "output_type": "display_data",
          "data": {
            "text/plain": [
              "<Figure size 640x480 with 1 Axes>"
            ],
            "image/png": "[encoded data removed]"
          },
          "metadata": {}
        }
      ]
    },
    {
      "cell_type": "code",
      "source": [
        "img.shape"
      ],
      "metadata": {
        "colab": {
          "base_uri": "https://localhost:8080/"
        },
        "id": "K2Z6x11xAo56",
        "outputId": "ea967b31-228e-43a2-a84e-cc339381b417"
      },
      "execution_count": null,
      "outputs": [
        {
          "output_type": "execute_result",
          "data": {
            "text/plain": [
              "(28, 28, 3)"
            ]
          },
          "metadata": {},
          "execution_count": 26
        }
      ]
    },
    {
      "cell_type": "code",
      "source": [
        "gray = cv2.cvtColor(img, cv2.COLOR_BGR2GRAY)#converting into grayscale\n",
        "\n",
        "newimg = tf.keras.utils.normalize(gray, axis = 1)# 0-1 scaling\n",
        "newimg = np.array(newimg).reshape(-1, IMG_SIZE, IMG_SIZE, 1)# For kernal operations\n",
        "\n",
        "predictions = model.predict(newimg)\n",
        "print(\"The handwritten number written is \",np.argmax(predictions[0]))\n"
      ],
      "metadata": {
        "colab": {
          "base_uri": "https://localhost:8080/"
        },
        "id": "qxqqC7SYBB8c",
        "outputId": "1a7407db-50bd-409c-84f1-d11bbf8949fc"
      },
      "execution_count": null,
      "outputs": [
        {
          "output_type": "stream",
          "name": "stdout",
          "text": [
            "1/1 [==============================] - 0s 26ms/step\n",
            "The handwritten number written is  3\n"
          ]
        }
      ]
    }
  ]
}