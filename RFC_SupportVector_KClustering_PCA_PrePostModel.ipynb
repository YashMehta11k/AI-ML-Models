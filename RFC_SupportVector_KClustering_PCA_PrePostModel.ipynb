{
  "cells": [
    {
      "cell_type": "markdown",
      "id": "a5fb8597",
      "metadata": {
        "id": "a5fb8597"
      },
      "source": [
        "# Random Forest Classifier"
      ]
    },
    {
      "cell_type": "code",
      "execution_count": null,
      "id": "ff0c1f00",
      "metadata": {
        "id": "ff0c1f00"
      },
      "outputs": [],
      "source": [
        "import pandas as pd\n",
        "from sklearn.model_selection import train_test_split\n",
        "from sklearn.ensemble import RandomForestClassifier\n",
        "from sklearn.metrics import accuracy_score\n",
        "from sklearn.metrics import confusion_matrix"
      ]
    },
    {
      "cell_type": "code",
      "execution_count": null,
      "id": "09afa22d",
      "metadata": {
        "id": "09afa22d",
        "outputId": "bac19087-3d91-4bd7-91ae-bf113a05d202"
      },
      "outputs": [
        {
          "data": {
            "text/html": [
              "<div>\n",
              "<style scoped>\n",
              "    .dataframe tbody tr th:only-of-type {\n",
              "        vertical-align: middle;\n",
              "    }\n",
              "\n",
              "    .dataframe tbody tr th {\n",
              "        vertical-align: top;\n",
              "    }\n",
              "\n",
              "    .dataframe thead th {\n",
              "        text-align: right;\n",
              "    }\n",
              "</style>\n",
              "<table border=\"1\" class=\"dataframe\">\n",
              "  <thead>\n",
              "    <tr style=\"text-align: right;\">\n",
              "      <th></th>\n",
              "      <th>PassengerId</th>\n",
              "      <th>Survived</th>\n",
              "      <th>Pclass</th>\n",
              "      <th>Name</th>\n",
              "      <th>Sex</th>\n",
              "      <th>Age</th>\n",
              "      <th>SibSp</th>\n",
              "      <th>Parch</th>\n",
              "      <th>Ticket</th>\n",
              "      <th>Fare</th>\n",
              "      <th>Cabin</th>\n",
              "      <th>Embarked</th>\n",
              "    </tr>\n",
              "  </thead>\n",
              "  <tbody>\n",
              "    <tr>\n",
              "      <th>0</th>\n",
              "      <td>1</td>\n",
              "      <td>0</td>\n",
              "      <td>3</td>\n",
              "      <td>Braund, Mr. Owen Harris</td>\n",
              "      <td>male</td>\n",
              "      <td>22.0</td>\n",
              "      <td>1</td>\n",
              "      <td>0</td>\n",
              "      <td>A/5 21171</td>\n",
              "      <td>7.2500</td>\n",
              "      <td>NaN</td>\n",
              "      <td>S</td>\n",
              "    </tr>\n",
              "    <tr>\n",
              "      <th>1</th>\n",
              "      <td>2</td>\n",
              "      <td>1</td>\n",
              "      <td>1</td>\n",
              "      <td>Cumings, Mrs. John Bradley (Florence Briggs Th...</td>\n",
              "      <td>female</td>\n",
              "      <td>38.0</td>\n",
              "      <td>1</td>\n",
              "      <td>0</td>\n",
              "      <td>PC 17599</td>\n",
              "      <td>71.2833</td>\n",
              "      <td>C85</td>\n",
              "      <td>C</td>\n",
              "    </tr>\n",
              "    <tr>\n",
              "      <th>2</th>\n",
              "      <td>3</td>\n",
              "      <td>1</td>\n",
              "      <td>3</td>\n",
              "      <td>Heikkinen, Miss. Laina</td>\n",
              "      <td>female</td>\n",
              "      <td>26.0</td>\n",
              "      <td>0</td>\n",
              "      <td>0</td>\n",
              "      <td>STON/O2. 3101282</td>\n",
              "      <td>7.9250</td>\n",
              "      <td>NaN</td>\n",
              "      <td>S</td>\n",
              "    </tr>\n",
              "    <tr>\n",
              "      <th>3</th>\n",
              "      <td>4</td>\n",
              "      <td>1</td>\n",
              "      <td>1</td>\n",
              "      <td>Futrelle, Mrs. Jacques Heath (Lily May Peel)</td>\n",
              "      <td>female</td>\n",
              "      <td>35.0</td>\n",
              "      <td>1</td>\n",
              "      <td>0</td>\n",
              "      <td>113803</td>\n",
              "      <td>53.1000</td>\n",
              "      <td>C123</td>\n",
              "      <td>S</td>\n",
              "    </tr>\n",
              "    <tr>\n",
              "      <th>4</th>\n",
              "      <td>5</td>\n",
              "      <td>0</td>\n",
              "      <td>3</td>\n",
              "      <td>Allen, Mr. William Henry</td>\n",
              "      <td>male</td>\n",
              "      <td>35.0</td>\n",
              "      <td>0</td>\n",
              "      <td>0</td>\n",
              "      <td>373450</td>\n",
              "      <td>8.0500</td>\n",
              "      <td>NaN</td>\n",
              "      <td>S</td>\n",
              "    </tr>\n",
              "  </tbody>\n",
              "</table>\n",
              "</div>"
            ],
            "text/plain": [
              "   PassengerId  Survived  Pclass  \\\n",
              "0            1         0       3   \n",
              "1            2         1       1   \n",
              "2            3         1       3   \n",
              "3            4         1       1   \n",
              "4            5         0       3   \n",
              "\n",
              "                                                Name     Sex   Age  SibSp  \\\n",
              "0                            Braund, Mr. Owen Harris    male  22.0      1   \n",
              "1  Cumings, Mrs. John Bradley (Florence Briggs Th...  female  38.0      1   \n",
              "2                             Heikkinen, Miss. Laina  female  26.0      0   \n",
              "3       Futrelle, Mrs. Jacques Heath (Lily May Peel)  female  35.0      1   \n",
              "4                           Allen, Mr. William Henry    male  35.0      0   \n",
              "\n",
              "   Parch            Ticket     Fare Cabin Embarked  \n",
              "0      0         A/5 21171   7.2500   NaN        S  \n",
              "1      0          PC 17599  71.2833   C85        C  \n",
              "2      0  STON/O2. 3101282   7.9250   NaN        S  \n",
              "3      0            113803  53.1000  C123        S  \n",
              "4      0            373450   8.0500   NaN        S  "
            ]
          },
          "execution_count": 2,
          "metadata": {},
          "output_type": "execute_result"
        }
      ],
      "source": [
        "data=pd.read_csv(\"titanic.csv\")\n",
        "data.head()"
      ]
    },
    {
      "cell_type": "code",
      "execution_count": null,
      "id": "c15d8137",
      "metadata": {
        "id": "c15d8137"
      },
      "outputs": [],
      "source": [
        "features=['Pclass','Sex','Age','SibSp','Parch','Fare','Embarked']\n",
        "target='Survived'"
      ]
    },
    {
      "cell_type": "code",
      "execution_count": null,
      "id": "77664586",
      "metadata": {
        "id": "77664586"
      },
      "outputs": [],
      "source": [
        "data['Sex']=data['Sex'].map({'female':0,'male':1})\n",
        "data['Age'].fillna(data['Age'].mean(), inplace=True)\n",
        "data['Fare'].fillna(data['Fare'].mean(), inplace=True)\n",
        "data['Embarked']=data['Embarked'].map({'S':0,'C':1,'Q':2})"
      ]
    },
    {
      "cell_type": "code",
      "execution_count": null,
      "id": "e5fe8f0f",
      "metadata": {
        "id": "e5fe8f0f"
      },
      "outputs": [],
      "source": [
        "data.dropna(inplace=True)"
      ]
    },
    {
      "cell_type": "code",
      "execution_count": null,
      "id": "83aaca60",
      "metadata": {
        "id": "83aaca60"
      },
      "outputs": [],
      "source": [
        "X=data[features]\n",
        "y=data[target]"
      ]
    },
    {
      "cell_type": "code",
      "execution_count": null,
      "id": "ae36e1d5",
      "metadata": {
        "id": "ae36e1d5"
      },
      "outputs": [],
      "source": [
        "X_train, X_test, y_train, y_test= train_test_split(X,y, test_size=0.2, random_state=42)"
      ]
    },
    {
      "cell_type": "code",
      "execution_count": null,
      "id": "fdadea1f",
      "metadata": {
        "id": "fdadea1f"
      },
      "outputs": [],
      "source": [
        "model=RandomForestClassifier(n_estimators=100, max_depth=5, random_state=42)"
      ]
    },
    {
      "cell_type": "code",
      "execution_count": null,
      "id": "ca3f4f8c",
      "metadata": {
        "id": "ca3f4f8c",
        "outputId": "e156954f-b9c9-40e4-d50a-11054a3e2cdb"
      },
      "outputs": [
        {
          "data": {
            "text/plain": [
              "RandomForestClassifier(max_depth=5, random_state=42)"
            ]
          },
          "execution_count": 12,
          "metadata": {},
          "output_type": "execute_result"
        }
      ],
      "source": [
        "model.fit(X_train, y_train)"
      ]
    },
    {
      "cell_type": "code",
      "execution_count": null,
      "id": "1fcb598b",
      "metadata": {
        "id": "1fcb598b"
      },
      "outputs": [],
      "source": [
        "y_pred=model.predict(X_test)"
      ]
    },
    {
      "cell_type": "code",
      "execution_count": null,
      "id": "2e98a739",
      "metadata": {
        "id": "2e98a739",
        "outputId": "b5318950-1469-4b97-c8e2-c5f90a13efff"
      },
      "outputs": [
        {
          "name": "stdout",
          "output_type": "stream",
          "text": [
            "Accuracy:  0.7804878048780488\n"
          ]
        }
      ],
      "source": [
        "print(\"Accuracy: \", accuracy_score(y_test, y_pred))\n"
      ]
    },
    {
      "cell_type": "code",
      "execution_count": null,
      "id": "dbdc3853",
      "metadata": {
        "id": "dbdc3853",
        "outputId": "baf8ae61-f133-4469-9082-a53aa8acb901"
      },
      "outputs": [
        {
          "name": "stdout",
          "output_type": "stream",
          "text": [
            "Confusion Matrix: \n",
            "[[ 5  3]\n",
            " [ 6 27]]\n"
          ]
        }
      ],
      "source": [
        "print('Confusion Matrix: ')\n",
        "print(confusion_matrix(y_test, y_pred))"
      ]
    },
    {
      "cell_type": "code",
      "execution_count": null,
      "id": "46854be1",
      "metadata": {
        "id": "46854be1",
        "outputId": "361bce4c-cb6f-470c-ea96-c6e9b057677c"
      },
      "outputs": [
        {
          "name": "stderr",
          "output_type": "stream",
          "text": [
            "C:\\ProgramData\\Anaconda3\\lib\\site-packages\\sklearn\\utils\\deprecation.py:87: FutureWarning: Function plot_confusion_matrix is deprecated; Function `plot_confusion_matrix` is deprecated in 1.0 and will be removed in 1.2. Use one of the class methods: ConfusionMatrixDisplay.from_predictions or ConfusionMatrixDisplay.from_estimator.\n",
            "  warnings.warn(msg, category=FutureWarning)\n"
          ]
        },
        {
          "data": {
            "image/png": "[encoded data removed]",
            "text/plain": [
              "<Figure size 432x288 with 2 Axes>"
            ]
          },
          "metadata": {
            "needs_background": "light"
          },
          "output_type": "display_data"
        }
      ],
      "source": [
        "import matplotlib.pyplot as plt\n",
        "from sklearn.metrics import plot_confusion_matrix\n",
        "\n",
        "plot_confusion_matrix(model, X_test, y_test, cmap=plt.cm.Blues)\n",
        "\n",
        "plt.show()"
      ]
    },
    {
      "cell_type": "markdown",
      "id": "cc22ee58",
      "metadata": {
        "id": "cc22ee58"
      },
      "source": [
        "# Support Vector Machines"
      ]
    },
    {
      "cell_type": "code",
      "execution_count": null,
      "id": "4c06076d",
      "metadata": {
        "id": "4c06076d"
      },
      "outputs": [],
      "source": [
        "import pandas as pd\n",
        "from sklearn.model_selection import train_test_split\n",
        "from sklearn.preprocessing import StandardScaler\n",
        "from sklearn.svm import SVC\n",
        "from sklearn.metrics import accuracy_score\n",
        "from sklearn.metrics import confusion_matrix"
      ]
    },
    {
      "cell_type": "code",
      "execution_count": null,
      "id": "f51d8e33",
      "metadata": {
        "id": "f51d8e33"
      },
      "outputs": [],
      "source": [
        "data=pd.read_csv(\"titanic.csv\")\n",
        "data.head()\n",
        "\n",
        "features=['Pclass','Sex','Age','SibSp','Parch','Fare','Embarked']\n",
        "target='Survived'\n",
        "\n",
        "data['Sex']=data['Sex'].map({'female':0,'male':1})\n",
        "data['Age'].fillna(data['Age'].mean(), inplace=True)\n",
        "data['Fare'].fillna(data['Fare'].mean(), inplace=True)\n",
        "data['Embarked']=data['Embarked'].map({'S':0,'C':1,'Q':2})\n",
        "\n",
        "data.dropna(inplace=True)\n",
        "\n",
        "X=data[features]\n",
        "y=data[target]\n",
        "\n",
        "X_train, X_test, y_train, y_test= train_test_split(X,y, test_size=0.2, random_state=42)\n",
        "\n"
      ]
    },
    {
      "cell_type": "code",
      "execution_count": null,
      "id": "b068138b",
      "metadata": {
        "id": "b068138b"
      },
      "outputs": [],
      "source": [
        "scaler=StandardScaler()\n",
        "X_train=scaler.fit_transform(X_train)\n",
        "X_test= scaler.transform(X_test)"
      ]
    },
    {
      "cell_type": "code",
      "execution_count": null,
      "id": "87b3143e",
      "metadata": {
        "id": "87b3143e",
        "outputId": "9f47ba25-b173-406a-de5c-eda51b7e57d3"
      },
      "outputs": [
        {
          "data": {
            "text/plain": [
              "SVC(kernel='linear', random_state=42)"
            ]
          },
          "execution_count": 20,
          "metadata": {},
          "output_type": "execute_result"
        }
      ],
      "source": [
        "model=SVC(kernel='linear', C=1.0, random_state=42)\n",
        "model.fit(X_train, y_train)"
      ]
    },
    {
      "cell_type": "code",
      "execution_count": null,
      "id": "674af26a",
      "metadata": {
        "id": "674af26a"
      },
      "outputs": [],
      "source": [
        "y_pred= model.predict(X_test)"
      ]
    },
    {
      "cell_type": "code",
      "execution_count": null,
      "id": "2a3aca66",
      "metadata": {
        "id": "2a3aca66",
        "outputId": "5a1717ac-342c-4c03-cd09-99d0f0fc539f"
      },
      "outputs": [
        {
          "name": "stdout",
          "output_type": "stream",
          "text": [
            "Accuracy: 0.7804878048780488\n"
          ]
        }
      ],
      "source": [
        "print(\"Accuracy:\", accuracy_score(y_test, y_pred))"
      ]
    },
    {
      "cell_type": "code",
      "execution_count": null,
      "id": "f3928525",
      "metadata": {
        "id": "f3928525",
        "outputId": "5184f64d-7078-4851-af97-d36d827cae46"
      },
      "outputs": [
        {
          "name": "stdout",
          "output_type": "stream",
          "text": [
            "Confusion Matrix:\n",
            "[[ 8  0]\n",
            " [ 9 24]]\n"
          ]
        }
      ],
      "source": [
        "print(\"Confusion Matrix:\")\n",
        "print(confusion_matrix(y_test, y_pred))"
      ]
    },
    {
      "cell_type": "code",
      "execution_count": null,
      "id": "404fb321",
      "metadata": {
        "id": "404fb321",
        "outputId": "14da0f31-7162-4587-c810-545c691540ae"
      },
      "outputs": [
        {
          "name": "stderr",
          "output_type": "stream",
          "text": [
            "C:\\ProgramData\\Anaconda3\\lib\\site-packages\\sklearn\\utils\\deprecation.py:87: FutureWarning: Function plot_confusion_matrix is deprecated; Function `plot_confusion_matrix` is deprecated in 1.0 and will be removed in 1.2. Use one of the class methods: ConfusionMatrixDisplay.from_predictions or ConfusionMatrixDisplay.from_estimator.\n",
            "  warnings.warn(msg, category=FutureWarning)\n"
          ]
        },
        {
          "data": {
            "image/png": "[encoded data removed]",
            "text/plain": [
              "<Figure size 432x288 with 2 Axes>"
            ]
          },
          "metadata": {
            "needs_background": "light"
          },
          "output_type": "display_data"
        }
      ],
      "source": [
        "import matplotlib.pyplot as plt\n",
        "from sklearn.metrics import plot_confusion_matrix\n",
        "\n",
        "plot_confusion_matrix(model, X_test, y_test, cmap=plt.cm.Blues)\n",
        "\n",
        "plt.show()"
      ]
    },
    {
      "cell_type": "markdown",
      "id": "dcb9c62e",
      "metadata": {
        "id": "dcb9c62e"
      },
      "source": [
        "# K-Means Clustering"
      ]
    },
    {
      "cell_type": "code",
      "execution_count": null,
      "id": "ee407755",
      "metadata": {
        "id": "ee407755"
      },
      "outputs": [],
      "source": [
        "import numpy as np\n",
        "import pandas as pd\n",
        "import matplotlib.pyplot as plt\n",
        "import seaborn as sns\n",
        "from sklearn.datasets import load_iris\n",
        "from sklearn.cluster import KMeans\n",
        "from sklearn.preprocessing import StandardScaler\n",
        "from sklearn.metrics import silhouette_score"
      ]
    },
    {
      "cell_type": "code",
      "execution_count": null,
      "id": "44c088e5",
      "metadata": {
        "id": "44c088e5"
      },
      "outputs": [],
      "source": [
        "data = load_iris()\n",
        "X = data.data\n"
      ]
    },
    {
      "cell_type": "code",
      "execution_count": null,
      "id": "c98e9791",
      "metadata": {
        "id": "c98e9791"
      },
      "outputs": [],
      "source": [
        "scaler = StandardScaler()\n",
        "X_scaled = scaler.fit_transform(X)\n"
      ]
    },
    {
      "cell_type": "code",
      "execution_count": null,
      "id": "0e2e9566",
      "metadata": {
        "id": "0e2e9566",
        "outputId": "9bf55ecc-0da3-4bbc-cb08-786b66d677cd"
      },
      "outputs": [
        {
          "data": {
            "image/png": "[encoded data removed]",
            "text/plain": [
              "<Figure size 720x360 with 1 Axes>"
            ]
          },
          "metadata": {
            "needs_background": "light"
          },
          "output_type": "display_data"
        },
        {
          "data": {
            "image/png": "[encoded data removed]",
            "text/plain": [
              "<Figure size 720x360 with 1 Axes>"
            ]
          },
          "metadata": {
            "needs_background": "light"
          },
          "output_type": "display_data"
        }
      ],
      "source": [
        "inertias = []\n",
        "silhouette_scores = []\n",
        "\n",
        "# Try different values of k\n",
        "for k in range(2, 11):\n",
        "    kmeans = KMeans(n_clusters=k, random_state=42)\n",
        "    kmeans.fit(X_scaled)\n",
        "\n",
        "    # Calculate inertia and silhouette score\n",
        "    inertias.append(kmeans.inertia_)\n",
        "    silhouette_scores.append(silhouette_score(X_scaled, kmeans.labels_))\n",
        "\n",
        "# Plot the elbow method graph\n",
        "plt.figure(figsize=(10, 5))\n",
        "plt.plot(range(2, 11), inertias, marker='o', lw=2)\n",
        "plt.xlabel('Number of clusters')\n",
        "plt.ylabel('Inertia')\n",
        "plt.title('Elbow Method for Optimal k')\n",
        "plt.show()\n",
        "\n",
        "# Plot the silhouette scores graph\n",
        "plt.figure(figsize=(10, 5))\n",
        "plt.plot(range(2, 11), silhouette_scores, marker='o', lw=2)\n",
        "plt.xlabel('Number of clusters')\n",
        "plt.ylabel('Silhouette Score')\n",
        "plt.title('Silhouette Scores for Optimal k')\n",
        "plt.show()"
      ]
    },
    {
      "cell_type": "code",
      "execution_count": null,
      "id": "ddc80e3c",
      "metadata": {
        "id": "ddc80e3c",
        "outputId": "60d2dc0a-6378-412e-bcc2-6e2c3f0c35c8"
      },
      "outputs": [
        {
          "data": {
            "text/plain": [
              "KMeans(n_clusters=3, random_state=42)"
            ]
          },
          "execution_count": 30,
          "metadata": {},
          "output_type": "execute_result"
        }
      ],
      "source": [
        "k = 3\n",
        "kmeans = KMeans(n_clusters=k, random_state=42)\n",
        "kmeans.fit(X_scaled)\n"
      ]
    },
    {
      "cell_type": "code",
      "execution_count": null,
      "id": "2c152c5d",
      "metadata": {
        "id": "2c152c5d",
        "outputId": "1d58f957-764d-44aa-af0c-f6c20e70361e"
      },
      "outputs": [
        {
          "name": "stderr",
          "output_type": "stream",
          "text": [
            "C:\\ProgramData\\Anaconda3\\lib\\site-packages\\seaborn\\_decorators.py:36: FutureWarning: Pass the following variables as keyword args: x, y. From version 0.12, the only valid positional argument will be `data`, and passing other arguments without an explicit keyword will result in an error or misinterpretation.\n",
            "  warnings.warn(\n"
          ]
        },
        {
          "data": {
            "image/png": "[encoded data removed]",
            "text/plain": [
              "<Figure size 576x432 with 1 Axes>"
            ]
          },
          "metadata": {
            "needs_background": "light"
          },
          "output_type": "display_data"
        }
      ],
      "source": [
        "# Create a scatter plot of the first two features with cluster centers\n",
        "plt.figure(figsize=(8, 6))\n",
        "sns.scatterplot(X_scaled[:, 0], X_scaled[:, 1], hue=kmeans.labels_, palette='viridis', legend=None)\n",
        "plt.scatter(kmeans.cluster_centers_[:, 0], kmeans.cluster_centers_[:, 1], s=100, c='red', marker='x', label='Cluster Centers')\n",
        "plt.xlabel('Sepal Length (scaled)')\n",
        "plt.ylabel('Sepal Width (scaled)')\n",
        "plt.title('K-means Clustering with k=3')\n",
        "plt.legend()\n",
        "plt.show()\n"
      ]
    },
    {
      "cell_type": "markdown",
      "id": "449060ff",
      "metadata": {
        "id": "449060ff"
      },
      "source": [
        "# Principal Component Analysis"
      ]
    },
    {
      "cell_type": "markdown",
      "id": "c17433c4",
      "metadata": {
        "id": "c17433c4"
      },
      "source": [
        "PCA is a method used in Machine Learning to reduce the dimensionality in a dataset while keeping\n",
        "as much information as possible.\n",
        "\n",
        "This is done by transforming the original features. These new features are called as principal components"
      ]
    },
    {
      "cell_type": "code",
      "execution_count": null,
      "id": "e11a5ad0",
      "metadata": {
        "id": "e11a5ad0"
      },
      "outputs": [],
      "source": [
        "from sklearn.decomposition import PCA\n",
        "from sklearn import datasets\n",
        "import matplotlib.pyplot as plt"
      ]
    },
    {
      "cell_type": "code",
      "execution_count": null,
      "id": "82dccf0e",
      "metadata": {
        "id": "82dccf0e"
      },
      "outputs": [],
      "source": [
        "iris= datasets.load_iris()"
      ]
    },
    {
      "cell_type": "code",
      "execution_count": null,
      "id": "eb25e681",
      "metadata": {
        "id": "eb25e681"
      },
      "outputs": [],
      "source": [
        "X=iris.data\n",
        "y=iris.target"
      ]
    },
    {
      "cell_type": "code",
      "execution_count": null,
      "id": "4fff1c7a",
      "metadata": {
        "id": "4fff1c7a"
      },
      "outputs": [],
      "source": [
        "pca=PCA(n_components=2)\n",
        "\n",
        "reduced_X=pca.fit_transform(X)"
      ]
    },
    {
      "cell_type": "code",
      "execution_count": null,
      "id": "ed8d97b4",
      "metadata": {
        "id": "ed8d97b4",
        "outputId": "0f05e2bb-d51a-47a5-d804-ce977c6cb1bc"
      },
      "outputs": [
        {
          "data": {
            "image/png": "[encoded data removed]",
            "text/plain": [
              "<Figure size 432x288 with 1 Axes>"
            ]
          },
          "metadata": {
            "needs_background": "light"
          },
          "output_type": "display_data"
        }
      ],
      "source": [
        "colors=['red','green','blue']\n",
        "\n",
        "for i in range(len(colors)):\n",
        "    plt.scatter(reduced_X[y==i,0], reduced_X[y==i,1],c=colors[i])\n",
        "plt.xlabel('First Principal Component')\n",
        "plt.ylabel('Second Principal Component')\n",
        "plt.title('PCA Scatter Plot')\n",
        "plt.show()"
      ]
    },
    {
      "cell_type": "markdown",
      "id": "ae9e26de",
      "metadata": {
        "id": "ae9e26de"
      },
      "source": [
        "# Pre and Post Model Building using PCA"
      ]
    },
    {
      "cell_type": "code",
      "execution_count": null,
      "id": "25c8f30e",
      "metadata": {
        "id": "25c8f30e"
      },
      "outputs": [],
      "source": [
        "from sklearn.linear_model import LogisticRegression\n",
        "from sklearn.model_selection import train_test_split\n",
        "from sklearn.metrics import accuracy_score\n",
        "from sklearn import datasets\n",
        "import warnings\n",
        "warnings.filterwarnings(\"ignore\")"
      ]
    },
    {
      "cell_type": "code",
      "execution_count": null,
      "id": "2b69a576",
      "metadata": {
        "id": "2b69a576"
      },
      "outputs": [],
      "source": [
        "iris = datasets.load_iris()"
      ]
    },
    {
      "cell_type": "code",
      "execution_count": null,
      "id": "afab9a9c",
      "metadata": {
        "id": "afab9a9c"
      },
      "outputs": [],
      "source": [
        "X = iris.data\n",
        "y = iris.target"
      ]
    },
    {
      "cell_type": "code",
      "execution_count": null,
      "id": "635d2a80",
      "metadata": {
        "id": "635d2a80"
      },
      "outputs": [],
      "source": [
        "X_train, X_test, y_train, y_test = train_test_split(X, y, test_size=0.2, random_state=42)\n"
      ]
    },
    {
      "cell_type": "code",
      "execution_count": null,
      "id": "c7066bb3",
      "metadata": {
        "id": "c7066bb3"
      },
      "outputs": [],
      "source": [
        "model = LogisticRegression()"
      ]
    },
    {
      "cell_type": "code",
      "execution_count": null,
      "id": "751e8157",
      "metadata": {
        "id": "751e8157",
        "outputId": "e70ce7d8-0138-45ae-d0be-86f106ece20f"
      },
      "outputs": [
        {
          "data": {
            "text/plain": [
              "LogisticRegression()"
            ]
          },
          "execution_count": 51,
          "metadata": {},
          "output_type": "execute_result"
        }
      ],
      "source": [
        "model.fit(X_train, y_train)"
      ]
    },
    {
      "cell_type": "code",
      "execution_count": null,
      "id": "a5b49fc5",
      "metadata": {
        "id": "a5b49fc5"
      },
      "outputs": [],
      "source": [
        "y_pred = model.predict(X_test)"
      ]
    },
    {
      "cell_type": "code",
      "execution_count": null,
      "id": "29d8c1c6",
      "metadata": {
        "id": "29d8c1c6",
        "outputId": "aef1aa21-e8bb-4dac-b094-997d91975dec"
      },
      "outputs": [
        {
          "name": "stdout",
          "output_type": "stream",
          "text": [
            "Model accuracy without PCA:  1.0\n"
          ]
        }
      ],
      "source": [
        "print(\"Model accuracy without PCA: \", accuracy_score(y_test, y_pred))"
      ]
    },
    {
      "cell_type": "code",
      "execution_count": null,
      "id": "95a85de9",
      "metadata": {
        "id": "95a85de9"
      },
      "outputs": [],
      "source": [
        "from sklearn.decomposition import PCA"
      ]
    },
    {
      "cell_type": "code",
      "execution_count": null,
      "id": "e0c83004",
      "metadata": {
        "id": "e0c83004"
      },
      "outputs": [],
      "source": [
        "pca = PCA(n_components=2)"
      ]
    },
    {
      "cell_type": "code",
      "execution_count": null,
      "id": "3b16b3ff",
      "metadata": {
        "id": "3b16b3ff"
      },
      "outputs": [],
      "source": [
        "X_reduced = pca.fit_transform(X)"
      ]
    },
    {
      "cell_type": "code",
      "execution_count": null,
      "id": "3d437a15",
      "metadata": {
        "id": "3d437a15"
      },
      "outputs": [],
      "source": [
        "X_train, X_test, y_train, y_test = train_test_split(X_reduced, y, test_size=0.2, random_state=42)\n"
      ]
    },
    {
      "cell_type": "code",
      "execution_count": null,
      "id": "36b85fe2",
      "metadata": {
        "id": "36b85fe2"
      },
      "outputs": [],
      "source": [
        "model = LogisticRegression()"
      ]
    },
    {
      "cell_type": "code",
      "execution_count": null,
      "id": "794b78ad",
      "metadata": {
        "id": "794b78ad",
        "outputId": "2e17d3c4-683d-44ab-9a57-c9a729c96255"
      },
      "outputs": [
        {
          "data": {
            "text/plain": [
              "LogisticRegression()"
            ]
          },
          "execution_count": 59,
          "metadata": {},
          "output_type": "execute_result"
        }
      ],
      "source": [
        "model.fit(X_train, y_train)"
      ]
    },
    {
      "cell_type": "code",
      "execution_count": null,
      "id": "de5be834",
      "metadata": {
        "id": "de5be834"
      },
      "outputs": [],
      "source": [
        "y_pred = model.predict(X_test)"
      ]
    },
    {
      "cell_type": "code",
      "execution_count": null,
      "id": "27c78987",
      "metadata": {
        "id": "27c78987",
        "outputId": "89a6a712-35e3-44ad-fe69-c6fae236edff"
      },
      "outputs": [
        {
          "name": "stdout",
          "output_type": "stream",
          "text": [
            "Model accuracy with PCA:  1.0\n"
          ]
        }
      ],
      "source": [
        "print(\"Model accuracy with PCA: \", accuracy_score(y_test, y_pred))"
      ]
    },
    {
      "cell_type": "markdown",
      "id": "a21baaf5",
      "metadata": {
        "id": "a21baaf5"
      },
      "source": [
        "# Deep Learning"
      ]
    },
    {
      "cell_type": "markdown",
      "id": "a46ef3b1",
      "metadata": {
        "id": "a46ef3b1"
      },
      "source": [
        "Deep Learning is a sub-field of Machine Learning that focuses on algorithms inspired by the structure and functions of\n",
        "the human brain calles as Artificial Neural Networks."
      ]
    },
    {
      "cell_type": "markdown",
      "id": "8ed322bd",
      "metadata": {
        "id": "8ed322bd"
      },
      "source": [
        "Artificial Neural Networks(ANN)- An ANN is a computational model that is inspired by the way biological neural networks in the human brain process information. It consists of interconnected artificial neurons, or nodes."
      ]
    },
    {
      "cell_type": "markdown",
      "id": "58d9aca6",
      "metadata": {
        "id": "58d9aca6"
      },
      "source": [
        "Neuron: The basic unit of computation in a neural network - it takes inputs, performs a computation on these inputs, and returns an output."
      ]
    },
    {
      "cell_type": "markdown",
      "id": "4bc80a6e",
      "metadata": {
        "id": "4bc80a6e"
      },
      "source": [
        "Weights and Biases: These are the learnable parameters of a neural network. They are updated during the learning process."
      ]
    },
    {
      "cell_type": "markdown",
      "id": "9c919fc1",
      "metadata": {
        "id": "9c919fc1"
      },
      "source": [
        "Activation Function: The activation function decides whether a neuron should be activated or not. It transforms the inputs of the neuron into its outputs. Common activation functions include ReLU (Rectified Linear Unit), sigmoid, and tanh."
      ]
    },
    {
      "cell_type": "code",
      "execution_count": null,
      "id": "199c2b8e",
      "metadata": {
        "id": "199c2b8e"
      },
      "outputs": [],
      "source": []
    }
  ],
  "metadata": {
    "kernelspec": {
      "display_name": "Python 3 (ipykernel)",
      "language": "python",
      "name": "python3"
    },
    "language_info": {
      "codemirror_mode": {
        "name": "ipython",
        "version": 3
      },
      "file_extension": ".py",
      "mimetype": "text/x-python",
      "name": "python",
      "nbconvert_exporter": "python",
      "pygments_lexer": "ipython3",
      "version": "3.9.12"
    },
    "colab": {
      "provenance": []
    }
  },
  "nbformat": 4,
  "nbformat_minor": 5
}