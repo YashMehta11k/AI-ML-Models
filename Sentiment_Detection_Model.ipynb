{
  "cells": [
    {
      "cell_type": "markdown",
      "id": "133bf406",
      "metadata": {
        "id": "133bf406"
      },
      "source": [
        "# Sentiment Classification using NLP and Classification Algorithm"
      ]
    },
    {
      "cell_type": "markdown",
      "id": "e9987c17",
      "metadata": {
        "id": "e9987c17"
      },
      "source": [
        "Sentiment Analysis is a means to identify the view or emotion behind a situation.\n",
        "\n",
        "It basically means to analyse and find the emotion or intent behind a piece of text or speech or any model of communication."
      ]
    },
    {
      "cell_type": "markdown",
      "id": "05d68db8",
      "metadata": {
        "id": "05d68db8"
      },
      "source": [
        "This burger has a very bad taste- negative review\n",
        "\n",
        "I ordered this pizza today- neutral sentiment/review\n",
        "\n",
        "I love this cheese sandwich, its so delicious- positive review"
      ]
    },
    {
      "cell_type": "code",
      "execution_count": null,
      "id": "365c9eaf",
      "metadata": {
        "id": "365c9eaf"
      },
      "outputs": [],
      "source": [
        "import pandas as pd\n",
        "import matplotlib.pyplot as plt\n",
        "import seaborn as sns\n",
        "import re"
      ]
    },
    {
      "cell_type": "code",
      "execution_count": null,
      "id": "e1ebf99a",
      "metadata": {
        "id": "e1ebf99a"
      },
      "outputs": [],
      "source": [
        "import nltk\n",
        "from nltk.corpus import stopwords\n",
        "from nltk.stem import WordNetLemmatizer"
      ]
    },
    {
      "cell_type": "code",
      "execution_count": null,
      "id": "c6ca49f8",
      "metadata": {
        "id": "c6ca49f8"
      },
      "outputs": [],
      "source": [
        "from sklearn.feature_extraction.text import CountVectorizer\n",
        "from sklearn.model_selection import GridSearchCV\n",
        "from sklearn.ensemble import RandomForestClassifier"
      ]
    },
    {
      "cell_type": "code",
      "execution_count": null,
      "id": "171565a1",
      "metadata": {
        "id": "171565a1"
      },
      "outputs": [],
      "source": [
        "from sklearn.metrics import accuracy_score, precision_score, recall_score, confusion_matrix, roc_curve\n",
        "from sklearn.metrics import classification_report, plot_confusion_matrix"
      ]
    },
    {
      "cell_type": "code",
      "execution_count": null,
      "id": "95c654c6",
      "metadata": {
        "id": "95c654c6"
      },
      "outputs": [],
      "source": [
        "df_train=pd.read_csv(\"train.txt\",delimiter=\";\",names=['text','label'])\n",
        "df_val=pd.read_csv(\"val.txt\",delimiter=\";\",names=['text','label'])"
      ]
    },
    {
      "cell_type": "code",
      "execution_count": null,
      "id": "bcc2bb25",
      "metadata": {
        "id": "bcc2bb25"
      },
      "outputs": [],
      "source": [
        "df=pd.concat([df_train, df_val])\n",
        "df.reset_index(inplace=True, drop=True)"
      ]
    },
    {
      "cell_type": "code",
      "execution_count": null,
      "id": "0dd4e081",
      "metadata": {
        "id": "0dd4e081",
        "outputId": "2796fc99-f4a9-4b9e-8b70-7d0ce7dde5dc"
      },
      "outputs": [
        {
          "name": "stdout",
          "output_type": "stream",
          "text": [
            "Shape of the dataframe:  (18000, 2)\n"
          ]
        },
        {
          "data": {
            "text/html": [
              "<div>\n",
              "<style scoped>\n",
              "    .dataframe tbody tr th:only-of-type {\n",
              "        vertical-align: middle;\n",
              "    }\n",
              "\n",
              "    .dataframe tbody tr th {\n",
              "        vertical-align: top;\n",
              "    }\n",
              "\n",
              "    .dataframe thead th {\n",
              "        text-align: right;\n",
              "    }\n",
              "</style>\n",
              "<table border=\"1\" class=\"dataframe\">\n",
              "  <thead>\n",
              "    <tr style=\"text-align: right;\">\n",
              "      <th></th>\n",
              "      <th>text</th>\n",
              "      <th>label</th>\n",
              "    </tr>\n",
              "  </thead>\n",
              "  <tbody>\n",
              "    <tr>\n",
              "      <th>14392</th>\n",
              "      <td>i feel impressed to talk to my older children ...</td>\n",
              "      <td>surprise</td>\n",
              "    </tr>\n",
              "    <tr>\n",
              "      <th>17360</th>\n",
              "      <td>i think i have a right to know if my neighbour...</td>\n",
              "      <td>anger</td>\n",
              "    </tr>\n",
              "    <tr>\n",
              "      <th>12255</th>\n",
              "      <td>i did indeed feel sentimental about this first...</td>\n",
              "      <td>sadness</td>\n",
              "    </tr>\n",
              "    <tr>\n",
              "      <th>5608</th>\n",
              "      <td>i continued on my way despite feeling a bit st...</td>\n",
              "      <td>fear</td>\n",
              "    </tr>\n",
              "    <tr>\n",
              "      <th>15362</th>\n",
              "      <td>im feeling increasingly comfortable with the r...</td>\n",
              "      <td>joy</td>\n",
              "    </tr>\n",
              "  </tbody>\n",
              "</table>\n",
              "</div>"
            ],
            "text/plain": [
              "                                                    text     label\n",
              "14392  i feel impressed to talk to my older children ...  surprise\n",
              "17360  i think i have a right to know if my neighbour...     anger\n",
              "12255  i did indeed feel sentimental about this first...   sadness\n",
              "5608   i continued on my way despite feeling a bit st...      fear\n",
              "15362  im feeling increasingly comfortable with the r...       joy"
            ]
          },
          "execution_count": 31,
          "metadata": {},
          "output_type": "execute_result"
        }
      ],
      "source": [
        "print(\"Shape of the dataframe: \",df.shape)\n",
        "df.sample(5)"
      ]
    },
    {
      "cell_type": "code",
      "execution_count": null,
      "id": "ae00e9d9",
      "metadata": {
        "id": "ae00e9d9",
        "outputId": "ecdeae5d-2a3c-426a-f20b-624d2f9e7bdd"
      },
      "outputs": [
        {
          "data": {
            "text/plain": [
              "<AxesSubplot:xlabel='label', ylabel='count'>"
            ]
          },
          "execution_count": 32,
          "metadata": {},
          "output_type": "execute_result"
        },
        {
          "data": {
            "image/png": "[encoded data removed]",
            "text/plain": [
              "<Figure size 432x288 with 1 Axes>"
            ]
          },
          "metadata": {
            "needs_background": "light"
          },
          "output_type": "display_data"
        }
      ],
      "source": [
        "import warnings\n",
        "warnings.filterwarnings(\"ignore\")\n",
        "\n",
        "sns.countplot(df.label)"
      ]
    },
    {
      "cell_type": "markdown",
      "id": "1661aeb3",
      "metadata": {
        "id": "1661aeb3"
      },
      "source": [
        "Positve Sentiment- joy, love, surprise\n",
        "\n",
        "Negative sentiment- anger, sadness, fear\n",
        "\n",
        "Now we will create a custom encoder to convert categorical target labels to numerical i.e 0 and 1"
      ]
    },
    {
      "cell_type": "code",
      "execution_count": null,
      "id": "43b06dfb",
      "metadata": {
        "id": "43b06dfb"
      },
      "outputs": [],
      "source": [
        "def custom_encoder(df):\n",
        "    df.replace(to_replace=\"surprise\",value=1, inplace=True)\n",
        "    df.replace(to_replace=\"love\",value=1, inplace=True)\n",
        "    df.replace(to_replace=\"joy\",value=1, inplace=True)\n",
        "    df.replace(to_replace=\"fear\",value=0, inplace=True)\n",
        "    df.replace(to_replace=\"anger\",value=0, inplace=True)\n",
        "    df.replace(to_replace=\"sadness\",value=0, inplace=True)"
      ]
    },
    {
      "cell_type": "code",
      "execution_count": null,
      "id": "5341ccfb",
      "metadata": {
        "id": "5341ccfb"
      },
      "outputs": [],
      "source": [
        "custom_encoder(df['label'])"
      ]
    },
    {
      "cell_type": "code",
      "execution_count": null,
      "id": "d38dc252",
      "metadata": {
        "id": "d38dc252",
        "outputId": "91a1348d-f01d-436e-9231-e30e62c7c818"
      },
      "outputs": [
        {
          "data": {
            "text/plain": [
              "<AxesSubplot:xlabel='label', ylabel='count'>"
            ]
          },
          "execution_count": 35,
          "metadata": {},
          "output_type": "execute_result"
        },
        {
          "data": {
            "image/png": "[encoded data removed]",
            "text/plain": [
              "<Figure size 432x288 with 1 Axes>"
            ]
          },
          "metadata": {
            "needs_background": "light"
          },
          "output_type": "display_data"
        }
      ],
      "source": [
        "sns.countplot(df.label)"
      ]
    },
    {
      "cell_type": "markdown",
      "id": "c1e7975e",
      "metadata": {
        "id": "c1e7975e"
      },
      "source": [
        "Preprocessing Steps\n",
        "\n",
        "1. Get rid of any characters apart from alphabets\n",
        "\n",
        "2. Convert the string to lowercase because Python is case-sensitive\n",
        "\n",
        "3. Check and remove the stopwords\n",
        "\n",
        "4. Perform lemmatization"
      ]
    },
    {
      "cell_type": "code",
      "execution_count": null,
      "id": "45f21196",
      "metadata": {
        "id": "45f21196"
      },
      "outputs": [],
      "source": [
        "lm=WordNetLemmatizer()"
      ]
    },
    {
      "cell_type": "code",
      "execution_count": null,
      "id": "54e9407b",
      "metadata": {
        "id": "54e9407b"
      },
      "outputs": [],
      "source": [
        "def text_transformation(df_col):\n",
        "    corpus=[]\n",
        "    for item in df_col:\n",
        "        new_item=re.sub('[^a-zA-Z]',' ',str(item))\n",
        "        new_item=new_item.lower()\n",
        "        new_item=new_item.split()\n",
        "        new_item=[lm.lemmatize(word) for word in new_item if word not in set(stopwords.words('english'))]\n",
        "        corpus.append(' '.join(str(x) for x in new_item))\n",
        "    return corpus"
      ]
    },
    {
      "cell_type": "code",
      "execution_count": null,
      "id": "4c9d23e4",
      "metadata": {
        "id": "4c9d23e4"
      },
      "outputs": [],
      "source": [
        "corpus=text_transformation(df['text'])"
      ]
    },
    {
      "cell_type": "code",
      "execution_count": null,
      "id": "61505e11",
      "metadata": {
        "id": "61505e11",
        "outputId": "12b4f5c3-eb66-429a-e7b0-a55363041c8c"
      },
      "outputs": [
        {
          "data": {
            "text/plain": [
              "['didnt feel humiliated']"
            ]
          },
          "execution_count": 39,
          "metadata": {},
          "output_type": "execute_result"
        }
      ],
      "source": [
        "corpus[:1]"
      ]
    },
    {
      "cell_type": "code",
      "execution_count": null,
      "id": "9800286d",
      "metadata": {
        "id": "9800286d"
      },
      "outputs": [],
      "source": [
        "cv=CountVectorizer(ngram_range=(1,2))\n",
        "traindata=cv.fit_transform(corpus)\n",
        "X=traindata\n",
        "y=df.label"
      ]
    },
    {
      "cell_type": "markdown",
      "id": "611fe349",
      "metadata": {
        "id": "611fe349"
      },
      "source": [
        "Now we will fit the data into grid search and view the best parameters using the best_params attribute"
      ]
    },
    {
      "cell_type": "code",
      "execution_count": null,
      "id": "8ca8f76f",
      "metadata": {
        "id": "8ca8f76f"
      },
      "outputs": [],
      "source": [
        "parameters={'max_features':('auto','sqrt'),\n",
        "            'n_estimators':[5,10],\n",
        "            'max_depth':[10,None],\n",
        "            'min_samples_split':[5],\n",
        "            'min_samples_leaf':[1],\n",
        "            'bootstrap':[True]\n",
        "           }"
      ]
    },
    {
      "cell_type": "code",
      "execution_count": null,
      "id": "280124f0",
      "metadata": {
        "id": "280124f0",
        "outputId": "63188208-3f6d-4144-924f-ea47ce6459e0"
      },
      "outputs": [
        {
          "data": {
            "text/plain": [
              "{'bootstrap': True,\n",
              " 'max_depth': None,\n",
              " 'max_features': 'sqrt',\n",
              " 'min_samples_leaf': 1,\n",
              " 'min_samples_split': 5,\n",
              " 'n_estimators': 10}"
            ]
          },
          "execution_count": 42,
          "metadata": {},
          "output_type": "execute_result"
        }
      ],
      "source": [
        "grid_search=GridSearchCV(RandomForestClassifier(), parameters, cv=5, return_train_score=True,n_jobs=-1)\n",
        "grid_search.fit(X,y)\n",
        "grid_search.best_params_"
      ]
    },
    {
      "cell_type": "markdown",
      "id": "e32ae8d7",
      "metadata": {
        "id": "e32ae8d7"
      },
      "source": [
        "We can view all the models and their respective parameters, mean test score and rank as GridSearch CV"
      ]
    },
    {
      "cell_type": "code",
      "execution_count": null,
      "id": "dd45318c",
      "metadata": {
        "id": "dd45318c",
        "outputId": "c8d50045-07a2-4424-c166-d72a209a8fba"
      },
      "outputs": [
        {
          "name": "stdout",
          "output_type": "stream",
          "text": [
            "Parameters:  {'bootstrap': True, 'max_depth': 10, 'max_features': 'auto', 'min_samples_leaf': 1, 'min_samples_split': 5, 'n_estimators': 5}\n",
            "Mean test Score:  0.5995\n",
            "Rank:  [7 6 8 5 3 2 4 1]\n",
            "Parameters:  {'bootstrap': True, 'max_depth': 10, 'max_features': 'auto', 'min_samples_leaf': 1, 'min_samples_split': 5, 'n_estimators': 10}\n",
            "Mean test Score:  0.616111111111111\n",
            "Rank:  [7 6 8 5 3 2 4 1]\n",
            "Parameters:  {'bootstrap': True, 'max_depth': 10, 'max_features': 'sqrt', 'min_samples_leaf': 1, 'min_samples_split': 5, 'n_estimators': 5}\n",
            "Mean test Score:  0.5858333333333333\n",
            "Rank:  [7 6 8 5 3 2 4 1]\n",
            "Parameters:  {'bootstrap': True, 'max_depth': 10, 'max_features': 'sqrt', 'min_samples_leaf': 1, 'min_samples_split': 5, 'n_estimators': 10}\n",
            "Mean test Score:  0.6258888888888889\n",
            "Rank:  [7 6 8 5 3 2 4 1]\n",
            "Parameters:  {'bootstrap': True, 'max_depth': None, 'max_features': 'auto', 'min_samples_leaf': 1, 'min_samples_split': 5, 'n_estimators': 5}\n",
            "Mean test Score:  0.9105555555555555\n",
            "Rank:  [7 6 8 5 3 2 4 1]\n",
            "Parameters:  {'bootstrap': True, 'max_depth': None, 'max_features': 'auto', 'min_samples_leaf': 1, 'min_samples_split': 5, 'n_estimators': 10}\n",
            "Mean test Score:  0.9365555555555556\n",
            "Rank:  [7 6 8 5 3 2 4 1]\n",
            "Parameters:  {'bootstrap': True, 'max_depth': None, 'max_features': 'sqrt', 'min_samples_leaf': 1, 'min_samples_split': 5, 'n_estimators': 5}\n",
            "Mean test Score:  0.9095000000000001\n",
            "Rank:  [7 6 8 5 3 2 4 1]\n",
            "Parameters:  {'bootstrap': True, 'max_depth': None, 'max_features': 'sqrt', 'min_samples_leaf': 1, 'min_samples_split': 5, 'n_estimators': 10}\n",
            "Mean test Score:  0.9390000000000001\n",
            "Rank:  [7 6 8 5 3 2 4 1]\n"
          ]
        }
      ],
      "source": [
        "for i in range(8):\n",
        "    print('Parameters: ', grid_search.cv_results_['params'][i])\n",
        "    print('Mean test Score: ',grid_search.cv_results_['mean_test_score'][i])\n",
        "    print(\"Rank: \",grid_search.cv_results_['rank_test_score'])"
      ]
    },
    {
      "cell_type": "markdown",
      "id": "a697812c",
      "metadata": {
        "id": "a697812c"
      },
      "source": [
        "Now we will choose the best parameter obtained from GridSearchCV and create a final random forest classifier model and then train our model."
      ]
    },
    {
      "cell_type": "code",
      "execution_count": null,
      "id": "5c8d59f5",
      "metadata": {
        "id": "5c8d59f5",
        "outputId": "c265668b-b4d1-4f1d-e173-460cfb1b7b1e"
      },
      "outputs": [
        {
          "data": {
            "text/plain": [
              "RandomForestClassifier(max_features='sqrt', min_samples_split=5,\n",
              "                       n_estimators=10)"
            ]
          },
          "execution_count": 44,
          "metadata": {},
          "output_type": "execute_result"
        }
      ],
      "source": [
        "rfc= RandomForestClassifier(max_features=grid_search.best_params_['max_features'],\n",
        "                           max_depth=grid_search.best_params_['max_depth'],\n",
        "                           n_estimators=grid_search.best_params_['n_estimators'],\n",
        "                           min_samples_split=grid_search.best_params_['min_samples_split'],\n",
        "                           min_samples_leaf=grid_search.best_params_['min_samples_leaf'],\n",
        "                           bootstrap=grid_search.best_params_['bootstrap'])\n",
        "\n",
        "rfc.fit(X,y)"
      ]
    },
    {
      "cell_type": "markdown",
      "id": "b0fea7ba",
      "metadata": {
        "id": "b0fea7ba"
      },
      "source": [
        "# Test Data Transformation"
      ]
    },
    {
      "cell_type": "code",
      "execution_count": null,
      "id": "b2e19409",
      "metadata": {
        "id": "b2e19409"
      },
      "outputs": [],
      "source": [
        "test_df=pd.read_csv('test.txt',delimiter=';',names=['text','label'])"
      ]
    },
    {
      "cell_type": "code",
      "execution_count": null,
      "id": "27305caf",
      "metadata": {
        "id": "27305caf"
      },
      "outputs": [],
      "source": [
        "X_test, y_test=test_df.text, test_df.label\n",
        "\n",
        "# encode the labels into two classes 0 and 1\n",
        "test_df= custom_encoder(y_test)\n",
        "\n",
        "# preprocessing of text\n",
        "test_corpus=text_transformation(X_test)\n",
        "\n",
        "# convert the text data into vectors\n",
        "testdata=cv.transform(test_corpus)\n",
        "\n",
        "#predict the target\n",
        "predictions=rfc.predict(testdata)"
      ]
    },
    {
      "cell_type": "markdown",
      "id": "bab4031d",
      "metadata": {
        "id": "bab4031d"
      },
      "source": [
        "Model Evaluation\n",
        "\n",
        "We will evaluate our model using various metrics such as accuracy score, precision score, recall score confusion matrix."
      ]
    },
    {
      "cell_type": "code",
      "execution_count": null,
      "id": "8b81ac05",
      "metadata": {
        "id": "8b81ac05",
        "outputId": "9acf6107-37f6-4d4d-f8c2-984e538e63b7"
      },
      "outputs": [
        {
          "name": "stdout",
          "output_type": "stream",
          "text": [
            "Accuracy Score: 0.952\n",
            "Precision Score: 0.9517543859649122\n",
            "Recall Score 0.9434782608695652\n",
            "--------------------------------------------------\n",
            "              precision    recall  f1-score   support\n",
            "\n",
            "           0       0.95      0.96      0.96      1080\n",
            "           1       0.95      0.94      0.95       920\n",
            "\n",
            "    accuracy                           0.95      2000\n",
            "   macro avg       0.95      0.95      0.95      2000\n",
            "weighted avg       0.95      0.95      0.95      2000\n",
            "\n"
          ]
        }
      ],
      "source": [
        "acc_score= accuracy_score(y_test, predictions)\n",
        "pre_score= precision_score(y_test, predictions)\n",
        "rec_score=recall_score(y_test, predictions)\n",
        "\n",
        "print('Accuracy Score:',acc_score)\n",
        "print(\"Precision Score:\",pre_score)\n",
        "print('Recall Score',rec_score)\n",
        "\n",
        "print(\"-\"*50)\n",
        "\n",
        "cr=classification_report(y_test, predictions)\n",
        "print(cr)"
      ]
    },
    {
      "cell_type": "markdown",
      "id": "7097eddb",
      "metadata": {
        "id": "7097eddb"
      },
      "source": [
        "ROC Curve- We will plot probability of the class using the predict_proba() method of random forest classifier and then we will plot the curve"
      ]
    },
    {
      "cell_type": "code",
      "execution_count": null,
      "id": "ca87d8cd",
      "metadata": {
        "id": "ca87d8cd",
        "outputId": "098dc537-7050-4f06-abc1-4fa1964e79b0"
      },
      "outputs": [
        {
          "data": {
            "image/png": "[encoded data removed]",
            "text/plain": [
              "<Figure size 432x288 with 1 Axes>"
            ]
          },
          "metadata": {
            "needs_background": "light"
          },
          "output_type": "display_data"
        }
      ],
      "source": [
        "predictions_probability= rfc.predict_proba(testdata)\n",
        "fpr,tpr,thresholds=roc_curve(y_test, predictions_probability[:,1])\n",
        "\n",
        "plt.plot(fpr,tpr)\n",
        "plt.plot([0,1])\n",
        "plt.title('ROC Curve')\n",
        "plt.xlabel('False Positive Rate')\n",
        "plt.ylabel('True Positive Rate')\n",
        "plt.show()"
      ]
    },
    {
      "cell_type": "markdown",
      "id": "314e3c0d",
      "metadata": {
        "id": "314e3c0d"
      },
      "source": [
        "As we can see that our model performed very well in classifying the sentiments, with an accuracy score, precision score and recall score of approx 96%.\n",
        "\n",
        "Now we will check for custom input as well and let our model identify the sentiment of the input statement."
      ]
    },
    {
      "cell_type": "code",
      "execution_count": null,
      "id": "51fc2805",
      "metadata": {
        "id": "51fc2805"
      },
      "outputs": [],
      "source": [
        "def expression_check(prediction_input):\n",
        "    if prediction_input==0:\n",
        "        print(\"Input statement has negative sentiment\")\n",
        "    elif prediction_input==1:\n",
        "        print(\"Input statement has positive sentiment\")\n",
        "    else:\n",
        "        print(\"Invalid Statement\")"
      ]
    },
    {
      "cell_type": "markdown",
      "id": "17ef1d1e",
      "metadata": {
        "id": "17ef1d1e"
      },
      "source": [
        "Function to take the input statement and performs the same transformation as we did earlier"
      ]
    },
    {
      "cell_type": "code",
      "execution_count": null,
      "id": "3d815a77",
      "metadata": {
        "id": "3d815a77"
      },
      "outputs": [],
      "source": [
        "def sentiment_predictor(input):\n",
        "    input=text_transformation(input)\n",
        "    transformed_input=cv.transform(input)\n",
        "    prediction=rfc.predict(transformed_input)\n",
        "    expression_check(prediction)"
      ]
    },
    {
      "cell_type": "code",
      "execution_count": null,
      "id": "a4b370c2",
      "metadata": {
        "id": "a4b370c2"
      },
      "outputs": [],
      "source": [
        "input1=[\"Sometimes I just don't want to go out\"]\n",
        "input2=[\"I bought a new phone and it's so good\"]"
      ]
    },
    {
      "cell_type": "code",
      "execution_count": null,
      "id": "1cedca44",
      "metadata": {
        "id": "1cedca44",
        "outputId": "a83db215-fe1c-4f69-a83a-00330b36b240"
      },
      "outputs": [
        {
          "name": "stdout",
          "output_type": "stream",
          "text": [
            "Input statement has negative sentiment\n",
            "Input statement has negative sentiment\n"
          ]
        }
      ],
      "source": [
        "sentiment_predictor(input1)\n",
        "sentiment_predictor(input2)"
      ]
    },
    {
      "cell_type": "code",
      "execution_count": null,
      "id": "d959a102",
      "metadata": {
        "id": "d959a102"
      },
      "outputs": [],
      "source": []
    },
    {
      "cell_type": "code",
      "execution_count": null,
      "id": "2fcff2df",
      "metadata": {
        "id": "2fcff2df"
      },
      "outputs": [],
      "source": []
    }
  ],
  "metadata": {
    "kernelspec": {
      "display_name": "Python 3 (ipykernel)",
      "language": "python",
      "name": "python3"
    },
    "language_info": {
      "codemirror_mode": {
        "name": "ipython",
        "version": 3
      },
      "file_extension": ".py",
      "mimetype": "text/x-python",
      "name": "python",
      "nbconvert_exporter": "python",
      "pygments_lexer": "ipython3",
      "version": "3.9.12"
    },
    "colab": {
      "provenance": []
    }
  },
  "nbformat": 4,
  "nbformat_minor": 5
}