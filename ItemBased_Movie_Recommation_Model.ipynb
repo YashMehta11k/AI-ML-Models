{
  "cells": [
    {
      "cell_type": "markdown",
      "id": "afecf328",
      "metadata": {
        "id": "afecf328"
      },
      "source": [
        "# Movie Recommender System"
      ]
    },
    {
      "cell_type": "markdown",
      "id": "f9270219",
      "metadata": {
        "id": "f9270219"
      },
      "source": [
        "Recommender Systems, also labelled as recommendation systems, are statistical algorithms that recommend products to users based on similarities between the buying trends of various user or similarities between the products."
      ]
    },
    {
      "cell_type": "markdown",
      "id": "f7e197db",
      "metadata": {
        "id": "f7e197db"
      },
      "source": [
        "Collaborative Filtering- The process used to calculate similarities between the buying trends of various users or similarities between products is called collaborative filtering.\n",
        "\n",
        "User based collaborative filtering- If two user X and Y, like products A and B and there is another user Z who likes product A, then the product B will also be recommended to user Z\n",
        "\n",
        "Item-based collaborative filtering- In this products are recommended based on similarities between themselves. For instance if a user likes product A and product A has properties X and Y, another product B with properties X and Y will also be recommended to the user."
      ]
    },
    {
      "cell_type": "code",
      "execution_count": null,
      "id": "33cc6bc1",
      "metadata": {
        "id": "33cc6bc1"
      },
      "outputs": [],
      "source": [
        "import numpy as np\n",
        "import pandas as pd\n",
        "import matplotlib.pyplot as plt\n",
        "import seaborn as sns"
      ]
    },
    {
      "cell_type": "markdown",
      "id": "ec043f6a",
      "metadata": {
        "id": "ec043f6a"
      },
      "source": [
        "The dataset contains around 100,000 movie reviews applied to 9,000 movies by 600 users"
      ]
    },
    {
      "cell_type": "code",
      "execution_count": null,
      "id": "d9db2887",
      "metadata": {
        "id": "d9db2887",
        "outputId": "3c7e0d95-3160-4f53-d34d-c40ed402cf61"
      },
      "outputs": [
        {
          "data": {
            "text/html": [
              "<div>\n",
              "<style scoped>\n",
              "    .dataframe tbody tr th:only-of-type {\n",
              "        vertical-align: middle;\n",
              "    }\n",
              "\n",
              "    .dataframe tbody tr th {\n",
              "        vertical-align: top;\n",
              "    }\n",
              "\n",
              "    .dataframe thead th {\n",
              "        text-align: right;\n",
              "    }\n",
              "</style>\n",
              "<table border=\"1\" class=\"dataframe\">\n",
              "  <thead>\n",
              "    <tr style=\"text-align: right;\">\n",
              "      <th></th>\n",
              "      <th>movieId</th>\n",
              "      <th>title</th>\n",
              "      <th>genres</th>\n",
              "    </tr>\n",
              "  </thead>\n",
              "  <tbody>\n",
              "    <tr>\n",
              "      <th>0</th>\n",
              "      <td>1</td>\n",
              "      <td>Toy Story (1995)</td>\n",
              "      <td>Adventure|Animation|Children|Comedy|Fantasy</td>\n",
              "    </tr>\n",
              "    <tr>\n",
              "      <th>1</th>\n",
              "      <td>2</td>\n",
              "      <td>Jumanji (1995)</td>\n",
              "      <td>Adventure|Children|Fantasy</td>\n",
              "    </tr>\n",
              "    <tr>\n",
              "      <th>2</th>\n",
              "      <td>3</td>\n",
              "      <td>Grumpier Old Men (1995)</td>\n",
              "      <td>Comedy|Romance</td>\n",
              "    </tr>\n",
              "    <tr>\n",
              "      <th>3</th>\n",
              "      <td>4</td>\n",
              "      <td>Waiting to Exhale (1995)</td>\n",
              "      <td>Comedy|Drama|Romance</td>\n",
              "    </tr>\n",
              "    <tr>\n",
              "      <th>4</th>\n",
              "      <td>5</td>\n",
              "      <td>Father of the Bride Part II (1995)</td>\n",
              "      <td>Comedy</td>\n",
              "    </tr>\n",
              "  </tbody>\n",
              "</table>\n",
              "</div>"
            ],
            "text/plain": [
              "   movieId                               title  \\\n",
              "0        1                    Toy Story (1995)   \n",
              "1        2                      Jumanji (1995)   \n",
              "2        3             Grumpier Old Men (1995)   \n",
              "3        4            Waiting to Exhale (1995)   \n",
              "4        5  Father of the Bride Part II (1995)   \n",
              "\n",
              "                                        genres  \n",
              "0  Adventure|Animation|Children|Comedy|Fantasy  \n",
              "1                   Adventure|Children|Fantasy  \n",
              "2                               Comedy|Romance  \n",
              "3                         Comedy|Drama|Romance  \n",
              "4                                       Comedy  "
            ]
          },
          "execution_count": 29,
          "metadata": {},
          "output_type": "execute_result"
        }
      ],
      "source": [
        "movie_ids_titles=pd.read_csv(\"movies.csv\")\n",
        "\n",
        "movie_ids_titles.head()"
      ]
    },
    {
      "cell_type": "code",
      "execution_count": null,
      "id": "4506bfe5",
      "metadata": {
        "id": "4506bfe5",
        "outputId": "86e78091-7840-46a3-bd67-6af72c0b3bc3"
      },
      "outputs": [
        {
          "data": {
            "text/plain": [
              "(9742, 3)"
            ]
          },
          "execution_count": 30,
          "metadata": {},
          "output_type": "execute_result"
        }
      ],
      "source": [
        "movie_ids_titles.shape"
      ]
    },
    {
      "cell_type": "code",
      "execution_count": null,
      "id": "faf8edd6",
      "metadata": {
        "id": "faf8edd6",
        "outputId": "6faaa964-efd3-41e7-c62e-fbff1782a65a"
      },
      "outputs": [
        {
          "data": {
            "text/html": [
              "<div>\n",
              "<style scoped>\n",
              "    .dataframe tbody tr th:only-of-type {\n",
              "        vertical-align: middle;\n",
              "    }\n",
              "\n",
              "    .dataframe tbody tr th {\n",
              "        vertical-align: top;\n",
              "    }\n",
              "\n",
              "    .dataframe thead th {\n",
              "        text-align: right;\n",
              "    }\n",
              "</style>\n",
              "<table border=\"1\" class=\"dataframe\">\n",
              "  <thead>\n",
              "    <tr style=\"text-align: right;\">\n",
              "      <th></th>\n",
              "      <th>userId</th>\n",
              "      <th>movieId</th>\n",
              "      <th>rating</th>\n",
              "      <th>timestamp</th>\n",
              "    </tr>\n",
              "  </thead>\n",
              "  <tbody>\n",
              "    <tr>\n",
              "      <th>0</th>\n",
              "      <td>1</td>\n",
              "      <td>1</td>\n",
              "      <td>4.0</td>\n",
              "      <td>964982703</td>\n",
              "    </tr>\n",
              "    <tr>\n",
              "      <th>1</th>\n",
              "      <td>1</td>\n",
              "      <td>3</td>\n",
              "      <td>4.0</td>\n",
              "      <td>964981247</td>\n",
              "    </tr>\n",
              "    <tr>\n",
              "      <th>2</th>\n",
              "      <td>1</td>\n",
              "      <td>6</td>\n",
              "      <td>4.0</td>\n",
              "      <td>964982224</td>\n",
              "    </tr>\n",
              "    <tr>\n",
              "      <th>3</th>\n",
              "      <td>1</td>\n",
              "      <td>47</td>\n",
              "      <td>5.0</td>\n",
              "      <td>964983815</td>\n",
              "    </tr>\n",
              "    <tr>\n",
              "      <th>4</th>\n",
              "      <td>1</td>\n",
              "      <td>50</td>\n",
              "      <td>5.0</td>\n",
              "      <td>964982931</td>\n",
              "    </tr>\n",
              "  </tbody>\n",
              "</table>\n",
              "</div>"
            ],
            "text/plain": [
              "   userId  movieId  rating  timestamp\n",
              "0       1        1     4.0  964982703\n",
              "1       1        3     4.0  964981247\n",
              "2       1        6     4.0  964982224\n",
              "3       1       47     5.0  964983815\n",
              "4       1       50     5.0  964982931"
            ]
          },
          "execution_count": 31,
          "metadata": {},
          "output_type": "execute_result"
        }
      ],
      "source": [
        "movie_ids_ratings=pd.read_csv(\"ratings.csv\")\n",
        "\n",
        "movie_ids_ratings.head()"
      ]
    },
    {
      "cell_type": "code",
      "execution_count": null,
      "id": "3f74921e",
      "metadata": {
        "id": "3f74921e",
        "outputId": "5ece7ce2-7bf1-44f0-935b-84ab41992581"
      },
      "outputs": [
        {
          "data": {
            "text/plain": [
              "(100836, 4)"
            ]
          },
          "execution_count": 32,
          "metadata": {},
          "output_type": "execute_result"
        }
      ],
      "source": [
        "movie_ids_ratings.shape"
      ]
    },
    {
      "cell_type": "markdown",
      "id": "4959f963",
      "metadata": {
        "id": "4959f963"
      },
      "source": [
        "Data Preprocessing- We need a dataframe that consists of userId, movieId, title and ratings"
      ]
    },
    {
      "cell_type": "code",
      "execution_count": null,
      "id": "fb396411",
      "metadata": {
        "id": "fb396411",
        "outputId": "3fa502ea-f76b-49b1-e525-8f3a4cccbe03"
      },
      "outputs": [
        {
          "data": {
            "text/html": [
              "<div>\n",
              "<style scoped>\n",
              "    .dataframe tbody tr th:only-of-type {\n",
              "        vertical-align: middle;\n",
              "    }\n",
              "\n",
              "    .dataframe tbody tr th {\n",
              "        vertical-align: top;\n",
              "    }\n",
              "\n",
              "    .dataframe thead th {\n",
              "        text-align: right;\n",
              "    }\n",
              "</style>\n",
              "<table border=\"1\" class=\"dataframe\">\n",
              "  <thead>\n",
              "    <tr style=\"text-align: right;\">\n",
              "      <th></th>\n",
              "      <th>movieId</th>\n",
              "      <th>title</th>\n",
              "    </tr>\n",
              "  </thead>\n",
              "  <tbody>\n",
              "    <tr>\n",
              "      <th>0</th>\n",
              "      <td>1</td>\n",
              "      <td>Toy Story (1995)</td>\n",
              "    </tr>\n",
              "    <tr>\n",
              "      <th>1</th>\n",
              "      <td>2</td>\n",
              "      <td>Jumanji (1995)</td>\n",
              "    </tr>\n",
              "    <tr>\n",
              "      <th>2</th>\n",
              "      <td>3</td>\n",
              "      <td>Grumpier Old Men (1995)</td>\n",
              "    </tr>\n",
              "    <tr>\n",
              "      <th>3</th>\n",
              "      <td>4</td>\n",
              "      <td>Waiting to Exhale (1995)</td>\n",
              "    </tr>\n",
              "    <tr>\n",
              "      <th>4</th>\n",
              "      <td>5</td>\n",
              "      <td>Father of the Bride Part II (1995)</td>\n",
              "    </tr>\n",
              "  </tbody>\n",
              "</table>\n",
              "</div>"
            ],
            "text/plain": [
              "   movieId                               title\n",
              "0        1                    Toy Story (1995)\n",
              "1        2                      Jumanji (1995)\n",
              "2        3             Grumpier Old Men (1995)\n",
              "3        4            Waiting to Exhale (1995)\n",
              "4        5  Father of the Bride Part II (1995)"
            ]
          },
          "execution_count": 33,
          "metadata": {},
          "output_type": "execute_result"
        }
      ],
      "source": [
        "movie_ids_titles.drop(['genres'],inplace=True,axis=1)\n",
        "\n",
        "movie_ids_titles.head()"
      ]
    },
    {
      "cell_type": "code",
      "execution_count": null,
      "id": "25ee992f",
      "metadata": {
        "id": "25ee992f",
        "outputId": "8125003e-98cf-4937-b205-dbc007a100ff"
      },
      "outputs": [
        {
          "data": {
            "text/html": [
              "<div>\n",
              "<style scoped>\n",
              "    .dataframe tbody tr th:only-of-type {\n",
              "        vertical-align: middle;\n",
              "    }\n",
              "\n",
              "    .dataframe tbody tr th {\n",
              "        vertical-align: top;\n",
              "    }\n",
              "\n",
              "    .dataframe thead th {\n",
              "        text-align: right;\n",
              "    }\n",
              "</style>\n",
              "<table border=\"1\" class=\"dataframe\">\n",
              "  <thead>\n",
              "    <tr style=\"text-align: right;\">\n",
              "      <th></th>\n",
              "      <th>userId</th>\n",
              "      <th>movieId</th>\n",
              "      <th>rating</th>\n",
              "    </tr>\n",
              "  </thead>\n",
              "  <tbody>\n",
              "    <tr>\n",
              "      <th>0</th>\n",
              "      <td>1</td>\n",
              "      <td>1</td>\n",
              "      <td>4.0</td>\n",
              "    </tr>\n",
              "    <tr>\n",
              "      <th>1</th>\n",
              "      <td>1</td>\n",
              "      <td>3</td>\n",
              "      <td>4.0</td>\n",
              "    </tr>\n",
              "    <tr>\n",
              "      <th>2</th>\n",
              "      <td>1</td>\n",
              "      <td>6</td>\n",
              "      <td>4.0</td>\n",
              "    </tr>\n",
              "    <tr>\n",
              "      <th>3</th>\n",
              "      <td>1</td>\n",
              "      <td>47</td>\n",
              "      <td>5.0</td>\n",
              "    </tr>\n",
              "    <tr>\n",
              "      <th>4</th>\n",
              "      <td>1</td>\n",
              "      <td>50</td>\n",
              "      <td>5.0</td>\n",
              "    </tr>\n",
              "  </tbody>\n",
              "</table>\n",
              "</div>"
            ],
            "text/plain": [
              "   userId  movieId  rating\n",
              "0       1        1     4.0\n",
              "1       1        3     4.0\n",
              "2       1        6     4.0\n",
              "3       1       47     5.0\n",
              "4       1       50     5.0"
            ]
          },
          "execution_count": 34,
          "metadata": {},
          "output_type": "execute_result"
        }
      ],
      "source": [
        "movie_ids_ratings.drop([\"timestamp\"],inplace=True,axis=1)\n",
        "\n",
        "movie_ids_ratings.head()"
      ]
    },
    {
      "cell_type": "code",
      "execution_count": null,
      "id": "6304d434",
      "metadata": {
        "id": "6304d434",
        "outputId": "3a4de472-6955-419e-ab8e-6b3806a238e3"
      },
      "outputs": [
        {
          "data": {
            "text/html": [
              "<div>\n",
              "<style scoped>\n",
              "    .dataframe tbody tr th:only-of-type {\n",
              "        vertical-align: middle;\n",
              "    }\n",
              "\n",
              "    .dataframe tbody tr th {\n",
              "        vertical-align: top;\n",
              "    }\n",
              "\n",
              "    .dataframe thead th {\n",
              "        text-align: right;\n",
              "    }\n",
              "</style>\n",
              "<table border=\"1\" class=\"dataframe\">\n",
              "  <thead>\n",
              "    <tr style=\"text-align: right;\">\n",
              "      <th></th>\n",
              "      <th>userId</th>\n",
              "      <th>movieId</th>\n",
              "      <th>rating</th>\n",
              "      <th>title</th>\n",
              "    </tr>\n",
              "  </thead>\n",
              "  <tbody>\n",
              "    <tr>\n",
              "      <th>0</th>\n",
              "      <td>1</td>\n",
              "      <td>1</td>\n",
              "      <td>4.0</td>\n",
              "      <td>Toy Story (1995)</td>\n",
              "    </tr>\n",
              "    <tr>\n",
              "      <th>1</th>\n",
              "      <td>5</td>\n",
              "      <td>1</td>\n",
              "      <td>4.0</td>\n",
              "      <td>Toy Story (1995)</td>\n",
              "    </tr>\n",
              "    <tr>\n",
              "      <th>2</th>\n",
              "      <td>7</td>\n",
              "      <td>1</td>\n",
              "      <td>4.5</td>\n",
              "      <td>Toy Story (1995)</td>\n",
              "    </tr>\n",
              "    <tr>\n",
              "      <th>3</th>\n",
              "      <td>15</td>\n",
              "      <td>1</td>\n",
              "      <td>2.5</td>\n",
              "      <td>Toy Story (1995)</td>\n",
              "    </tr>\n",
              "    <tr>\n",
              "      <th>4</th>\n",
              "      <td>17</td>\n",
              "      <td>1</td>\n",
              "      <td>4.5</td>\n",
              "      <td>Toy Story (1995)</td>\n",
              "    </tr>\n",
              "  </tbody>\n",
              "</table>\n",
              "</div>"
            ],
            "text/plain": [
              "   userId  movieId  rating             title\n",
              "0       1        1     4.0  Toy Story (1995)\n",
              "1       5        1     4.0  Toy Story (1995)\n",
              "2       7        1     4.5  Toy Story (1995)\n",
              "3      15        1     2.5  Toy Story (1995)\n",
              "4      17        1     4.5  Toy Story (1995)"
            ]
          },
          "execution_count": 35,
          "metadata": {},
          "output_type": "execute_result"
        }
      ],
      "source": [
        "merged_movie_df= pd.merge(movie_ids_ratings, movie_ids_titles, on='movieId')\n",
        "\n",
        "merged_movie_df.head()"
      ]
    },
    {
      "cell_type": "markdown",
      "id": "314b5655",
      "metadata": {
        "id": "314b5655"
      },
      "source": [
        "Data Visualisation- Let's first group the dataset by title and see whhat information we can get regarding the ratings of movies."
      ]
    },
    {
      "cell_type": "code",
      "execution_count": null,
      "id": "e96f5ad6",
      "metadata": {
        "id": "e96f5ad6",
        "outputId": "2f7c1951-dc03-4289-85d0-a3c96cea86e1"
      },
      "outputs": [
        {
          "data": {
            "text/html": [
              "<div>\n",
              "<style scoped>\n",
              "    .dataframe tbody tr th:only-of-type {\n",
              "        vertical-align: middle;\n",
              "    }\n",
              "\n",
              "    .dataframe tbody tr th {\n",
              "        vertical-align: top;\n",
              "    }\n",
              "\n",
              "    .dataframe thead tr th {\n",
              "        text-align: left;\n",
              "    }\n",
              "\n",
              "    .dataframe thead tr:last-of-type th {\n",
              "        text-align: right;\n",
              "    }\n",
              "</style>\n",
              "<table border=\"1\" class=\"dataframe\">\n",
              "  <thead>\n",
              "    <tr>\n",
              "      <th></th>\n",
              "      <th colspan=\"8\" halign=\"left\">userId</th>\n",
              "      <th colspan=\"5\" halign=\"left\">movieId</th>\n",
              "      <th colspan=\"8\" halign=\"left\">rating</th>\n",
              "    </tr>\n",
              "    <tr>\n",
              "      <th></th>\n",
              "      <th>count</th>\n",
              "      <th>mean</th>\n",
              "      <th>std</th>\n",
              "      <th>min</th>\n",
              "      <th>25%</th>\n",
              "      <th>50%</th>\n",
              "      <th>75%</th>\n",
              "      <th>max</th>\n",
              "      <th>count</th>\n",
              "      <th>mean</th>\n",
              "      <th>...</th>\n",
              "      <th>75%</th>\n",
              "      <th>max</th>\n",
              "      <th>count</th>\n",
              "      <th>mean</th>\n",
              "      <th>std</th>\n",
              "      <th>min</th>\n",
              "      <th>25%</th>\n",
              "      <th>50%</th>\n",
              "      <th>75%</th>\n",
              "      <th>max</th>\n",
              "    </tr>\n",
              "    <tr>\n",
              "      <th>title</th>\n",
              "      <th></th>\n",
              "      <th></th>\n",
              "      <th></th>\n",
              "      <th></th>\n",
              "      <th></th>\n",
              "      <th></th>\n",
              "      <th></th>\n",
              "      <th></th>\n",
              "      <th></th>\n",
              "      <th></th>\n",
              "      <th></th>\n",
              "      <th></th>\n",
              "      <th></th>\n",
              "      <th></th>\n",
              "      <th></th>\n",
              "      <th></th>\n",
              "      <th></th>\n",
              "      <th></th>\n",
              "      <th></th>\n",
              "      <th></th>\n",
              "      <th></th>\n",
              "    </tr>\n",
              "  </thead>\n",
              "  <tbody>\n",
              "    <tr>\n",
              "      <th>'71 (2014)</th>\n",
              "      <td>1.0</td>\n",
              "      <td>610.000000</td>\n",
              "      <td>NaN</td>\n",
              "      <td>610.0</td>\n",
              "      <td>610.00</td>\n",
              "      <td>610.0</td>\n",
              "      <td>610.00</td>\n",
              "      <td>610.0</td>\n",
              "      <td>1.0</td>\n",
              "      <td>117867.0</td>\n",
              "      <td>...</td>\n",
              "      <td>117867.0</td>\n",
              "      <td>117867.0</td>\n",
              "      <td>1.0</td>\n",
              "      <td>4.000000</td>\n",
              "      <td>NaN</td>\n",
              "      <td>4.0</td>\n",
              "      <td>4.000</td>\n",
              "      <td>4.0</td>\n",
              "      <td>4.000</td>\n",
              "      <td>4.0</td>\n",
              "    </tr>\n",
              "    <tr>\n",
              "      <th>'Hellboy': The Seeds of Creation (2004)</th>\n",
              "      <td>1.0</td>\n",
              "      <td>332.000000</td>\n",
              "      <td>NaN</td>\n",
              "      <td>332.0</td>\n",
              "      <td>332.00</td>\n",
              "      <td>332.0</td>\n",
              "      <td>332.00</td>\n",
              "      <td>332.0</td>\n",
              "      <td>1.0</td>\n",
              "      <td>97757.0</td>\n",
              "      <td>...</td>\n",
              "      <td>97757.0</td>\n",
              "      <td>97757.0</td>\n",
              "      <td>1.0</td>\n",
              "      <td>4.000000</td>\n",
              "      <td>NaN</td>\n",
              "      <td>4.0</td>\n",
              "      <td>4.000</td>\n",
              "      <td>4.0</td>\n",
              "      <td>4.000</td>\n",
              "      <td>4.0</td>\n",
              "    </tr>\n",
              "    <tr>\n",
              "      <th>'Round Midnight (1986)</th>\n",
              "      <td>2.0</td>\n",
              "      <td>354.500000</td>\n",
              "      <td>31.819805</td>\n",
              "      <td>332.0</td>\n",
              "      <td>343.25</td>\n",
              "      <td>354.5</td>\n",
              "      <td>365.75</td>\n",
              "      <td>377.0</td>\n",
              "      <td>2.0</td>\n",
              "      <td>26564.0</td>\n",
              "      <td>...</td>\n",
              "      <td>26564.0</td>\n",
              "      <td>26564.0</td>\n",
              "      <td>2.0</td>\n",
              "      <td>3.500000</td>\n",
              "      <td>0.000000</td>\n",
              "      <td>3.5</td>\n",
              "      <td>3.500</td>\n",
              "      <td>3.5</td>\n",
              "      <td>3.500</td>\n",
              "      <td>3.5</td>\n",
              "    </tr>\n",
              "    <tr>\n",
              "      <th>'Salem's Lot (2004)</th>\n",
              "      <td>1.0</td>\n",
              "      <td>345.000000</td>\n",
              "      <td>NaN</td>\n",
              "      <td>345.0</td>\n",
              "      <td>345.00</td>\n",
              "      <td>345.0</td>\n",
              "      <td>345.00</td>\n",
              "      <td>345.0</td>\n",
              "      <td>1.0</td>\n",
              "      <td>27751.0</td>\n",
              "      <td>...</td>\n",
              "      <td>27751.0</td>\n",
              "      <td>27751.0</td>\n",
              "      <td>1.0</td>\n",
              "      <td>5.000000</td>\n",
              "      <td>NaN</td>\n",
              "      <td>5.0</td>\n",
              "      <td>5.000</td>\n",
              "      <td>5.0</td>\n",
              "      <td>5.000</td>\n",
              "      <td>5.0</td>\n",
              "    </tr>\n",
              "    <tr>\n",
              "      <th>'Til There Was You (1997)</th>\n",
              "      <td>2.0</td>\n",
              "      <td>229.000000</td>\n",
              "      <td>164.048773</td>\n",
              "      <td>113.0</td>\n",
              "      <td>171.00</td>\n",
              "      <td>229.0</td>\n",
              "      <td>287.00</td>\n",
              "      <td>345.0</td>\n",
              "      <td>2.0</td>\n",
              "      <td>779.0</td>\n",
              "      <td>...</td>\n",
              "      <td>779.0</td>\n",
              "      <td>779.0</td>\n",
              "      <td>2.0</td>\n",
              "      <td>4.000000</td>\n",
              "      <td>1.414214</td>\n",
              "      <td>3.0</td>\n",
              "      <td>3.500</td>\n",
              "      <td>4.0</td>\n",
              "      <td>4.500</td>\n",
              "      <td>5.0</td>\n",
              "    </tr>\n",
              "    <tr>\n",
              "      <th>...</th>\n",
              "      <td>...</td>\n",
              "      <td>...</td>\n",
              "      <td>...</td>\n",
              "      <td>...</td>\n",
              "      <td>...</td>\n",
              "      <td>...</td>\n",
              "      <td>...</td>\n",
              "      <td>...</td>\n",
              "      <td>...</td>\n",
              "      <td>...</td>\n",
              "      <td>...</td>\n",
              "      <td>...</td>\n",
              "      <td>...</td>\n",
              "      <td>...</td>\n",
              "      <td>...</td>\n",
              "      <td>...</td>\n",
              "      <td>...</td>\n",
              "      <td>...</td>\n",
              "      <td>...</td>\n",
              "      <td>...</td>\n",
              "      <td>...</td>\n",
              "    </tr>\n",
              "    <tr>\n",
              "      <th>eXistenZ (1999)</th>\n",
              "      <td>22.0</td>\n",
              "      <td>389.954545</td>\n",
              "      <td>167.161022</td>\n",
              "      <td>95.0</td>\n",
              "      <td>278.25</td>\n",
              "      <td>419.5</td>\n",
              "      <td>509.25</td>\n",
              "      <td>608.0</td>\n",
              "      <td>22.0</td>\n",
              "      <td>2600.0</td>\n",
              "      <td>...</td>\n",
              "      <td>2600.0</td>\n",
              "      <td>2600.0</td>\n",
              "      <td>22.0</td>\n",
              "      <td>3.863636</td>\n",
              "      <td>0.804479</td>\n",
              "      <td>2.0</td>\n",
              "      <td>3.500</td>\n",
              "      <td>4.0</td>\n",
              "      <td>4.375</td>\n",
              "      <td>5.0</td>\n",
              "    </tr>\n",
              "    <tr>\n",
              "      <th>xXx (2002)</th>\n",
              "      <td>24.0</td>\n",
              "      <td>272.916667</td>\n",
              "      <td>174.297576</td>\n",
              "      <td>9.0</td>\n",
              "      <td>131.25</td>\n",
              "      <td>240.5</td>\n",
              "      <td>418.50</td>\n",
              "      <td>610.0</td>\n",
              "      <td>24.0</td>\n",
              "      <td>5507.0</td>\n",
              "      <td>...</td>\n",
              "      <td>5507.0</td>\n",
              "      <td>5507.0</td>\n",
              "      <td>24.0</td>\n",
              "      <td>2.770833</td>\n",
              "      <td>0.966607</td>\n",
              "      <td>0.5</td>\n",
              "      <td>2.375</td>\n",
              "      <td>3.0</td>\n",
              "      <td>3.500</td>\n",
              "      <td>4.0</td>\n",
              "    </tr>\n",
              "    <tr>\n",
              "      <th>xXx: State of the Union (2005)</th>\n",
              "      <td>5.0</td>\n",
              "      <td>386.000000</td>\n",
              "      <td>148.801882</td>\n",
              "      <td>232.0</td>\n",
              "      <td>274.00</td>\n",
              "      <td>382.0</td>\n",
              "      <td>432.00</td>\n",
              "      <td>610.0</td>\n",
              "      <td>5.0</td>\n",
              "      <td>33158.0</td>\n",
              "      <td>...</td>\n",
              "      <td>33158.0</td>\n",
              "      <td>33158.0</td>\n",
              "      <td>5.0</td>\n",
              "      <td>2.000000</td>\n",
              "      <td>0.500000</td>\n",
              "      <td>1.5</td>\n",
              "      <td>1.500</td>\n",
              "      <td>2.0</td>\n",
              "      <td>2.500</td>\n",
              "      <td>2.5</td>\n",
              "    </tr>\n",
              "    <tr>\n",
              "      <th>¡Three Amigos! (1986)</th>\n",
              "      <td>26.0</td>\n",
              "      <td>279.807692</td>\n",
              "      <td>193.794947</td>\n",
              "      <td>1.0</td>\n",
              "      <td>101.25</td>\n",
              "      <td>260.5</td>\n",
              "      <td>441.25</td>\n",
              "      <td>599.0</td>\n",
              "      <td>26.0</td>\n",
              "      <td>2478.0</td>\n",
              "      <td>...</td>\n",
              "      <td>2478.0</td>\n",
              "      <td>2478.0</td>\n",
              "      <td>26.0</td>\n",
              "      <td>3.134615</td>\n",
              "      <td>0.944009</td>\n",
              "      <td>1.0</td>\n",
              "      <td>2.500</td>\n",
              "      <td>3.0</td>\n",
              "      <td>3.875</td>\n",
              "      <td>5.0</td>\n",
              "    </tr>\n",
              "    <tr>\n",
              "      <th>À nous la liberté (Freedom for Us) (1931)</th>\n",
              "      <td>1.0</td>\n",
              "      <td>527.000000</td>\n",
              "      <td>NaN</td>\n",
              "      <td>527.0</td>\n",
              "      <td>527.00</td>\n",
              "      <td>527.0</td>\n",
              "      <td>527.00</td>\n",
              "      <td>527.0</td>\n",
              "      <td>1.0</td>\n",
              "      <td>5560.0</td>\n",
              "      <td>...</td>\n",
              "      <td>5560.0</td>\n",
              "      <td>5560.0</td>\n",
              "      <td>1.0</td>\n",
              "      <td>1.000000</td>\n",
              "      <td>NaN</td>\n",
              "      <td>1.0</td>\n",
              "      <td>1.000</td>\n",
              "      <td>1.0</td>\n",
              "      <td>1.000</td>\n",
              "      <td>1.0</td>\n",
              "    </tr>\n",
              "  </tbody>\n",
              "</table>\n",
              "<p>9719 rows × 24 columns</p>\n",
              "</div>"
            ],
            "text/plain": [
              "                                          userId                          \\\n",
              "                                           count        mean         std   \n",
              "title                                                                      \n",
              "'71 (2014)                                   1.0  610.000000         NaN   \n",
              "'Hellboy': The Seeds of Creation (2004)      1.0  332.000000         NaN   \n",
              "'Round Midnight (1986)                       2.0  354.500000   31.819805   \n",
              "'Salem's Lot (2004)                          1.0  345.000000         NaN   \n",
              "'Til There Was You (1997)                    2.0  229.000000  164.048773   \n",
              "...                                          ...         ...         ...   \n",
              "eXistenZ (1999)                             22.0  389.954545  167.161022   \n",
              "xXx (2002)                                  24.0  272.916667  174.297576   \n",
              "xXx: State of the Union (2005)               5.0  386.000000  148.801882   \n",
              "¡Three Amigos! (1986)                       26.0  279.807692  193.794947   \n",
              "À nous la liberté (Freedom for Us) (1931)    1.0  527.000000         NaN   \n",
              "\n",
              "                                                                         \\\n",
              "                                             min     25%    50%     75%   \n",
              "title                                                                     \n",
              "'71 (2014)                                 610.0  610.00  610.0  610.00   \n",
              "'Hellboy': The Seeds of Creation (2004)    332.0  332.00  332.0  332.00   \n",
              "'Round Midnight (1986)                     332.0  343.25  354.5  365.75   \n",
              "'Salem's Lot (2004)                        345.0  345.00  345.0  345.00   \n",
              "'Til There Was You (1997)                  113.0  171.00  229.0  287.00   \n",
              "...                                          ...     ...    ...     ...   \n",
              "eXistenZ (1999)                             95.0  278.25  419.5  509.25   \n",
              "xXx (2002)                                   9.0  131.25  240.5  418.50   \n",
              "xXx: State of the Union (2005)             232.0  274.00  382.0  432.00   \n",
              "¡Three Amigos! (1986)                        1.0  101.25  260.5  441.25   \n",
              "À nous la liberté (Freedom for Us) (1931)  527.0  527.00  527.0  527.00   \n",
              "\n",
              "                                                 movieId            ...  \\\n",
              "                                             max   count      mean  ...   \n",
              "title                                                               ...   \n",
              "'71 (2014)                                 610.0     1.0  117867.0  ...   \n",
              "'Hellboy': The Seeds of Creation (2004)    332.0     1.0   97757.0  ...   \n",
              "'Round Midnight (1986)                     377.0     2.0   26564.0  ...   \n",
              "'Salem's Lot (2004)                        345.0     1.0   27751.0  ...   \n",
              "'Til There Was You (1997)                  345.0     2.0     779.0  ...   \n",
              "...                                          ...     ...       ...  ...   \n",
              "eXistenZ (1999)                            608.0    22.0    2600.0  ...   \n",
              "xXx (2002)                                 610.0    24.0    5507.0  ...   \n",
              "xXx: State of the Union (2005)             610.0     5.0   33158.0  ...   \n",
              "¡Three Amigos! (1986)                      599.0    26.0    2478.0  ...   \n",
              "À nous la liberté (Freedom for Us) (1931)  527.0     1.0    5560.0  ...   \n",
              "\n",
              "                                                              rating  \\\n",
              "                                                75%       max  count   \n",
              "title                                                                  \n",
              "'71 (2014)                                 117867.0  117867.0    1.0   \n",
              "'Hellboy': The Seeds of Creation (2004)     97757.0   97757.0    1.0   \n",
              "'Round Midnight (1986)                      26564.0   26564.0    2.0   \n",
              "'Salem's Lot (2004)                         27751.0   27751.0    1.0   \n",
              "'Til There Was You (1997)                     779.0     779.0    2.0   \n",
              "...                                             ...       ...    ...   \n",
              "eXistenZ (1999)                              2600.0    2600.0   22.0   \n",
              "xXx (2002)                                   5507.0    5507.0   24.0   \n",
              "xXx: State of the Union (2005)              33158.0   33158.0    5.0   \n",
              "¡Three Amigos! (1986)                        2478.0    2478.0   26.0   \n",
              "À nous la liberté (Freedom for Us) (1931)    5560.0    5560.0    1.0   \n",
              "\n",
              "                                                                           \\\n",
              "                                               mean       std  min    25%   \n",
              "title                                                                       \n",
              "'71 (2014)                                 4.000000       NaN  4.0  4.000   \n",
              "'Hellboy': The Seeds of Creation (2004)    4.000000       NaN  4.0  4.000   \n",
              "'Round Midnight (1986)                     3.500000  0.000000  3.5  3.500   \n",
              "'Salem's Lot (2004)                        5.000000       NaN  5.0  5.000   \n",
              "'Til There Was You (1997)                  4.000000  1.414214  3.0  3.500   \n",
              "...                                             ...       ...  ...    ...   \n",
              "eXistenZ (1999)                            3.863636  0.804479  2.0  3.500   \n",
              "xXx (2002)                                 2.770833  0.966607  0.5  2.375   \n",
              "xXx: State of the Union (2005)             2.000000  0.500000  1.5  1.500   \n",
              "¡Three Amigos! (1986)                      3.134615  0.944009  1.0  2.500   \n",
              "À nous la liberté (Freedom for Us) (1931)  1.000000       NaN  1.0  1.000   \n",
              "\n",
              "                                                            \n",
              "                                           50%    75%  max  \n",
              "title                                                       \n",
              "'71 (2014)                                 4.0  4.000  4.0  \n",
              "'Hellboy': The Seeds of Creation (2004)    4.0  4.000  4.0  \n",
              "'Round Midnight (1986)                     3.5  3.500  3.5  \n",
              "'Salem's Lot (2004)                        5.0  5.000  5.0  \n",
              "'Til There Was You (1997)                  4.0  4.500  5.0  \n",
              "...                                        ...    ...  ...  \n",
              "eXistenZ (1999)                            4.0  4.375  5.0  \n",
              "xXx (2002)                                 3.0  3.500  4.0  \n",
              "xXx: State of the Union (2005)             2.0  2.500  2.5  \n",
              "¡Three Amigos! (1986)                      3.0  3.875  5.0  \n",
              "À nous la liberté (Freedom for Us) (1931)  1.0  1.000  1.0  \n",
              "\n",
              "[9719 rows x 24 columns]"
            ]
          },
          "execution_count": 36,
          "metadata": {},
          "output_type": "execute_result"
        }
      ],
      "source": [
        "merged_movie_df.groupby('title').describe()"
      ]
    },
    {
      "cell_type": "code",
      "execution_count": null,
      "id": "2fea1dca",
      "metadata": {
        "id": "2fea1dca",
        "outputId": "4bb92ff6-13a9-4798-b7d2-430617e51c05"
      },
      "outputs": [
        {
          "data": {
            "text/plain": [
              "title\n",
              "'71 (2014)                                 4.0\n",
              "'Hellboy': The Seeds of Creation (2004)    4.0\n",
              "'Round Midnight (1986)                     3.5\n",
              "'Salem's Lot (2004)                        5.0\n",
              "'Til There Was You (1997)                  4.0\n",
              "Name: rating, dtype: float64"
            ]
          },
          "execution_count": 37,
          "metadata": {},
          "output_type": "execute_result"
        }
      ],
      "source": [
        "merged_movie_df.groupby('title')['rating'].mean().head()"
      ]
    },
    {
      "cell_type": "markdown",
      "id": "9937fe9c",
      "metadata": {
        "id": "9937fe9c"
      },
      "source": [
        "Let's sort the movie titles by the descending rder of the average user ratings"
      ]
    },
    {
      "cell_type": "code",
      "execution_count": null,
      "id": "49f72e95",
      "metadata": {
        "id": "49f72e95",
        "outputId": "f6df6a02-a425-4ff2-8036-1887f3240237"
      },
      "outputs": [
        {
          "data": {
            "text/plain": [
              "title\n",
              "Gena the Crocodile (1969)              5.0\n",
              "True Stories (1986)                    5.0\n",
              "Cosmic Scrat-tastrophe (2015)          5.0\n",
              "Love and Pigeons (1985)                5.0\n",
              "Red Sorghum (Hong gao liang) (1987)    5.0\n",
              "Name: rating, dtype: float64"
            ]
          },
          "execution_count": 38,
          "metadata": {},
          "output_type": "execute_result"
        }
      ],
      "source": [
        "merged_movie_df.groupby('title')['rating'].mean().sort_values(ascending=False).head()"
      ]
    },
    {
      "cell_type": "markdown",
      "id": "d77ec488",
      "metadata": {
        "id": "d77ec488"
      },
      "source": [
        "Let's now print the movies in the descending order of their rating counts"
      ]
    },
    {
      "cell_type": "code",
      "execution_count": null,
      "id": "8cb99469",
      "metadata": {
        "id": "8cb99469",
        "outputId": "10ac8c2c-94f7-443e-d5ce-09c8e1f81e3e"
      },
      "outputs": [
        {
          "data": {
            "text/plain": [
              "title\n",
              "Forrest Gump (1994)                 329\n",
              "Shawshank Redemption, The (1994)    317\n",
              "Pulp Fiction (1994)                 307\n",
              "Silence of the Lambs, The (1991)    279\n",
              "Matrix, The (1999)                  278\n",
              "Name: rating, dtype: int64"
            ]
          },
          "execution_count": 39,
          "metadata": {},
          "output_type": "execute_result"
        }
      ],
      "source": [
        "merged_movie_df.groupby('title')['rating'].count().sort_values(ascending=False).head()"
      ]
    },
    {
      "cell_type": "markdown",
      "id": "5e9d8dd7",
      "metadata": {
        "id": "5e9d8dd7"
      },
      "source": [
        "A movie which is rated by large number of people is usually a good movie\n",
        "\n",
        "Let's create a dataframe that shows the title, mean rating and the rating counts"
      ]
    },
    {
      "cell_type": "code",
      "execution_count": null,
      "id": "0a76d57c",
      "metadata": {
        "id": "0a76d57c",
        "outputId": "149ba1c3-67ed-4889-cacd-37fdad575bef"
      },
      "outputs": [
        {
          "data": {
            "text/html": [
              "<div>\n",
              "<style scoped>\n",
              "    .dataframe tbody tr th:only-of-type {\n",
              "        vertical-align: middle;\n",
              "    }\n",
              "\n",
              "    .dataframe tbody tr th {\n",
              "        vertical-align: top;\n",
              "    }\n",
              "\n",
              "    .dataframe thead th {\n",
              "        text-align: right;\n",
              "    }\n",
              "</style>\n",
              "<table border=\"1\" class=\"dataframe\">\n",
              "  <thead>\n",
              "    <tr style=\"text-align: right;\">\n",
              "      <th></th>\n",
              "      <th>rating_mean</th>\n",
              "      <th>rating_count</th>\n",
              "    </tr>\n",
              "    <tr>\n",
              "      <th>title</th>\n",
              "      <th></th>\n",
              "      <th></th>\n",
              "    </tr>\n",
              "  </thead>\n",
              "  <tbody>\n",
              "    <tr>\n",
              "      <th>'71 (2014)</th>\n",
              "      <td>4.0</td>\n",
              "      <td>1</td>\n",
              "    </tr>\n",
              "    <tr>\n",
              "      <th>'Hellboy': The Seeds of Creation (2004)</th>\n",
              "      <td>4.0</td>\n",
              "      <td>1</td>\n",
              "    </tr>\n",
              "    <tr>\n",
              "      <th>'Round Midnight (1986)</th>\n",
              "      <td>3.5</td>\n",
              "      <td>2</td>\n",
              "    </tr>\n",
              "    <tr>\n",
              "      <th>'Salem's Lot (2004)</th>\n",
              "      <td>5.0</td>\n",
              "      <td>1</td>\n",
              "    </tr>\n",
              "    <tr>\n",
              "      <th>'Til There Was You (1997)</th>\n",
              "      <td>4.0</td>\n",
              "      <td>2</td>\n",
              "    </tr>\n",
              "  </tbody>\n",
              "</table>\n",
              "</div>"
            ],
            "text/plain": [
              "                                         rating_mean  rating_count\n",
              "title                                                             \n",
              "'71 (2014)                                       4.0             1\n",
              "'Hellboy': The Seeds of Creation (2004)          4.0             1\n",
              "'Round Midnight (1986)                           3.5             2\n",
              "'Salem's Lot (2004)                              5.0             1\n",
              "'Til There Was You (1997)                        4.0             2"
            ]
          },
          "execution_count": 40,
          "metadata": {},
          "output_type": "execute_result"
        }
      ],
      "source": [
        "movie_rating_mean_count= pd.DataFrame(columns=['rating_mean','rating_count'])\n",
        "\n",
        "movie_rating_mean_count[\"rating_mean\"]=merged_movie_df.groupby('title')['rating'].mean()\n",
        "\n",
        "movie_rating_mean_count[\"rating_count\"]=merged_movie_df.groupby('title')['rating'].count()\n",
        "\n",
        "movie_rating_mean_count.head()"
      ]
    },
    {
      "cell_type": "markdown",
      "id": "02d144e6",
      "metadata": {
        "id": "02d144e6"
      },
      "source": [
        "The above dataframe contains movie title, average rating (ratings mean) and the number of rating_counts\n",
        "\n",
        "We will plot a histogram to see how the average ratings are distributed"
      ]
    },
    {
      "cell_type": "code",
      "execution_count": null,
      "id": "d9673c88",
      "metadata": {
        "id": "d9673c88",
        "outputId": "4ac1e820-4a85-4fac-ee9b-74b550bcefab"
      },
      "outputs": [
        {
          "data": {
            "text/plain": [
              "<AxesSubplot:>"
            ]
          },
          "execution_count": 41,
          "metadata": {},
          "output_type": "execute_result"
        },
        {
          "data": {
            "image/png": "[encoded data removed]",
            "text/plain": [
              "<Figure size 720x576 with 1 Axes>"
            ]
          },
          "metadata": {},
          "output_type": "display_data"
        }
      ],
      "source": [
        "plt.figure(figsize=(10,8))\n",
        "sns.set_style(\"darkgrid\")\n",
        "\n",
        "movie_rating_mean_count['rating_mean'].hist(bins=30, color='purple')"
      ]
    },
    {
      "cell_type": "markdown",
      "id": "f736ce48",
      "metadata": {
        "id": "f736ce48"
      },
      "source": [
        "In the above plot, most of the movies have an average rating between 3 and 4\n",
        "\n",
        "Distribution for rating counts"
      ]
    },
    {
      "cell_type": "code",
      "execution_count": null,
      "id": "e7509987",
      "metadata": {
        "id": "e7509987",
        "outputId": "4bac1751-ed02-41a6-92a3-58cd97fd3c28"
      },
      "outputs": [
        {
          "data": {
            "text/plain": [
              "<AxesSubplot:>"
            ]
          },
          "execution_count": 42,
          "metadata": {},
          "output_type": "execute_result"
        },
        {
          "data": {
            "image/png": "[encoded data removed]",
            "text/plain": [
              "<Figure size 720x576 with 1 Axes>"
            ]
          },
          "metadata": {},
          "output_type": "display_data"
        }
      ],
      "source": [
        "plt.figure(figsize=(10,8))\n",
        "sns.set_style(\"darkgrid\")\n",
        "\n",
        "movie_rating_mean_count[\"rating_count\"].hist(bins=33, color=\"green\")"
      ]
    },
    {
      "cell_type": "markdown",
      "id": "6c911308",
      "metadata": {
        "id": "6c911308"
      },
      "source": [
        "There are around 7000 movies with less than 10 rating counts. The number of movies decrease with an increase in ratings counts. Movies with more than 50 rating are very few.\n",
        "\n",
        "It is also nteresting to see the relationship between mean ratings and rating counts of a movie"
      ]
    },
    {
      "cell_type": "code",
      "execution_count": null,
      "id": "cb587da6",
      "metadata": {
        "id": "cb587da6",
        "outputId": "99339cd2-fc39-43fe-e612-338959804aab"
      },
      "outputs": [
        {
          "data": {
            "text/plain": [
              "<AxesSubplot:xlabel='rating_mean', ylabel='rating_count'>"
            ]
          },
          "execution_count": 43,
          "metadata": {},
          "output_type": "execute_result"
        },
        {
          "data": {
            "image/png": "[encoded data removed]",
            "text/plain": [
              "<Figure size 720x576 with 1 Axes>"
            ]
          },
          "metadata": {},
          "output_type": "display_data"
        }
      ],
      "source": [
        "plt.figure(figsize=(10,8))\n",
        "sns.set_style(\"darkgrid\")\n",
        "\n",
        "sns.regplot(x=\"rating_mean\",y=\"rating_count\",data=movie_rating_mean_count, color=\"brown\")"
      ]
    },
    {
      "cell_type": "markdown",
      "id": "a7d21dab",
      "metadata": {
        "id": "a7d21dab"
      },
      "source": [
        "From the above graph in the top right portion, you can see that the movies witha higher number of rating counts tend to have higher mean ratings as well.\n",
        "\n",
        "Let's sort our dataset by rating counts and see the average ratings of the movies with the top 5 highest number of ratings"
      ]
    },
    {
      "cell_type": "code",
      "execution_count": null,
      "id": "897b576f",
      "metadata": {
        "id": "897b576f",
        "outputId": "8e09dafc-c33b-4868-d905-e5746ad110d7"
      },
      "outputs": [
        {
          "data": {
            "text/html": [
              "<div>\n",
              "<style scoped>\n",
              "    .dataframe tbody tr th:only-of-type {\n",
              "        vertical-align: middle;\n",
              "    }\n",
              "\n",
              "    .dataframe tbody tr th {\n",
              "        vertical-align: top;\n",
              "    }\n",
              "\n",
              "    .dataframe thead th {\n",
              "        text-align: right;\n",
              "    }\n",
              "</style>\n",
              "<table border=\"1\" class=\"dataframe\">\n",
              "  <thead>\n",
              "    <tr style=\"text-align: right;\">\n",
              "      <th></th>\n",
              "      <th>rating_mean</th>\n",
              "      <th>rating_count</th>\n",
              "    </tr>\n",
              "    <tr>\n",
              "      <th>title</th>\n",
              "      <th></th>\n",
              "      <th></th>\n",
              "    </tr>\n",
              "  </thead>\n",
              "  <tbody>\n",
              "    <tr>\n",
              "      <th>Forrest Gump (1994)</th>\n",
              "      <td>4.164134</td>\n",
              "      <td>329</td>\n",
              "    </tr>\n",
              "    <tr>\n",
              "      <th>Shawshank Redemption, The (1994)</th>\n",
              "      <td>4.429022</td>\n",
              "      <td>317</td>\n",
              "    </tr>\n",
              "    <tr>\n",
              "      <th>Pulp Fiction (1994)</th>\n",
              "      <td>4.197068</td>\n",
              "      <td>307</td>\n",
              "    </tr>\n",
              "    <tr>\n",
              "      <th>Silence of the Lambs, The (1991)</th>\n",
              "      <td>4.161290</td>\n",
              "      <td>279</td>\n",
              "    </tr>\n",
              "    <tr>\n",
              "      <th>Matrix, The (1999)</th>\n",
              "      <td>4.192446</td>\n",
              "      <td>278</td>\n",
              "    </tr>\n",
              "  </tbody>\n",
              "</table>\n",
              "</div>"
            ],
            "text/plain": [
              "                                  rating_mean  rating_count\n",
              "title                                                      \n",
              "Forrest Gump (1994)                  4.164134           329\n",
              "Shawshank Redemption, The (1994)     4.429022           317\n",
              "Pulp Fiction (1994)                  4.197068           307\n",
              "Silence of the Lambs, The (1991)     4.161290           279\n",
              "Matrix, The (1999)                   4.192446           278"
            ]
          },
          "execution_count": 44,
          "metadata": {},
          "output_type": "execute_result"
        }
      ],
      "source": [
        "movie_rating_mean_count.sort_values(\"rating_count\",ascending=False).head()"
      ]
    },
    {
      "cell_type": "markdown",
      "id": "b43ef454",
      "metadata": {
        "id": "b43ef454"
      },
      "source": [
        "# Item Based Collaborative Filtering"
      ]
    },
    {
      "cell_type": "markdown",
      "id": "6906a8dc",
      "metadata": {
        "id": "6906a8dc"
      },
      "source": [
        "In item based collaborative filtering, products are recommended based on common characteristics.\n",
        "\n",
        "The first step is to create a dataframe where each movie is represented by a column and rows contain user raings for movies."
      ]
    },
    {
      "cell_type": "code",
      "execution_count": null,
      "id": "c3b46810",
      "metadata": {
        "id": "c3b46810",
        "outputId": "049e37f1-d7f6-4e11-f2f2-54f94887e9ff"
      },
      "outputs": [
        {
          "data": {
            "text/html": [
              "<div>\n",
              "<style scoped>\n",
              "    .dataframe tbody tr th:only-of-type {\n",
              "        vertical-align: middle;\n",
              "    }\n",
              "\n",
              "    .dataframe tbody tr th {\n",
              "        vertical-align: top;\n",
              "    }\n",
              "\n",
              "    .dataframe thead th {\n",
              "        text-align: right;\n",
              "    }\n",
              "</style>\n",
              "<table border=\"1\" class=\"dataframe\">\n",
              "  <thead>\n",
              "    <tr style=\"text-align: right;\">\n",
              "      <th>title</th>\n",
              "      <th>'71 (2014)</th>\n",
              "      <th>'Hellboy': The Seeds of Creation (2004)</th>\n",
              "      <th>'Round Midnight (1986)</th>\n",
              "      <th>'Salem's Lot (2004)</th>\n",
              "      <th>'Til There Was You (1997)</th>\n",
              "      <th>'Tis the Season for Love (2015)</th>\n",
              "      <th>'burbs, The (1989)</th>\n",
              "      <th>'night Mother (1986)</th>\n",
              "      <th>(500) Days of Summer (2009)</th>\n",
              "      <th>*batteries not included (1987)</th>\n",
              "      <th>...</th>\n",
              "      <th>Zulu (2013)</th>\n",
              "      <th>[REC] (2007)</th>\n",
              "      <th>[REC]² (2009)</th>\n",
              "      <th>[REC]³ 3 Génesis (2012)</th>\n",
              "      <th>anohana: The Flower We Saw That Day - The Movie (2013)</th>\n",
              "      <th>eXistenZ (1999)</th>\n",
              "      <th>xXx (2002)</th>\n",
              "      <th>xXx: State of the Union (2005)</th>\n",
              "      <th>¡Three Amigos! (1986)</th>\n",
              "      <th>À nous la liberté (Freedom for Us) (1931)</th>\n",
              "    </tr>\n",
              "    <tr>\n",
              "      <th>userId</th>\n",
              "      <th></th>\n",
              "      <th></th>\n",
              "      <th></th>\n",
              "      <th></th>\n",
              "      <th></th>\n",
              "      <th></th>\n",
              "      <th></th>\n",
              "      <th></th>\n",
              "      <th></th>\n",
              "      <th></th>\n",
              "      <th></th>\n",
              "      <th></th>\n",
              "      <th></th>\n",
              "      <th></th>\n",
              "      <th></th>\n",
              "      <th></th>\n",
              "      <th></th>\n",
              "      <th></th>\n",
              "      <th></th>\n",
              "      <th></th>\n",
              "      <th></th>\n",
              "    </tr>\n",
              "  </thead>\n",
              "  <tbody>\n",
              "    <tr>\n",
              "      <th>1</th>\n",
              "      <td>NaN</td>\n",
              "      <td>NaN</td>\n",
              "      <td>NaN</td>\n",
              "      <td>NaN</td>\n",
              "      <td>NaN</td>\n",
              "      <td>NaN</td>\n",
              "      <td>NaN</td>\n",
              "      <td>NaN</td>\n",
              "      <td>NaN</td>\n",
              "      <td>NaN</td>\n",
              "      <td>...</td>\n",
              "      <td>NaN</td>\n",
              "      <td>NaN</td>\n",
              "      <td>NaN</td>\n",
              "      <td>NaN</td>\n",
              "      <td>NaN</td>\n",
              "      <td>NaN</td>\n",
              "      <td>NaN</td>\n",
              "      <td>NaN</td>\n",
              "      <td>4.0</td>\n",
              "      <td>NaN</td>\n",
              "    </tr>\n",
              "    <tr>\n",
              "      <th>2</th>\n",
              "      <td>NaN</td>\n",
              "      <td>NaN</td>\n",
              "      <td>NaN</td>\n",
              "      <td>NaN</td>\n",
              "      <td>NaN</td>\n",
              "      <td>NaN</td>\n",
              "      <td>NaN</td>\n",
              "      <td>NaN</td>\n",
              "      <td>NaN</td>\n",
              "      <td>NaN</td>\n",
              "      <td>...</td>\n",
              "      <td>NaN</td>\n",
              "      <td>NaN</td>\n",
              "      <td>NaN</td>\n",
              "      <td>NaN</td>\n",
              "      <td>NaN</td>\n",
              "      <td>NaN</td>\n",
              "      <td>NaN</td>\n",
              "      <td>NaN</td>\n",
              "      <td>NaN</td>\n",
              "      <td>NaN</td>\n",
              "    </tr>\n",
              "    <tr>\n",
              "      <th>3</th>\n",
              "      <td>NaN</td>\n",
              "      <td>NaN</td>\n",
              "      <td>NaN</td>\n",
              "      <td>NaN</td>\n",
              "      <td>NaN</td>\n",
              "      <td>NaN</td>\n",
              "      <td>NaN</td>\n",
              "      <td>NaN</td>\n",
              "      <td>NaN</td>\n",
              "      <td>NaN</td>\n",
              "      <td>...</td>\n",
              "      <td>NaN</td>\n",
              "      <td>NaN</td>\n",
              "      <td>NaN</td>\n",
              "      <td>NaN</td>\n",
              "      <td>NaN</td>\n",
              "      <td>NaN</td>\n",
              "      <td>NaN</td>\n",
              "      <td>NaN</td>\n",
              "      <td>NaN</td>\n",
              "      <td>NaN</td>\n",
              "    </tr>\n",
              "    <tr>\n",
              "      <th>4</th>\n",
              "      <td>NaN</td>\n",
              "      <td>NaN</td>\n",
              "      <td>NaN</td>\n",
              "      <td>NaN</td>\n",
              "      <td>NaN</td>\n",
              "      <td>NaN</td>\n",
              "      <td>NaN</td>\n",
              "      <td>NaN</td>\n",
              "      <td>NaN</td>\n",
              "      <td>NaN</td>\n",
              "      <td>...</td>\n",
              "      <td>NaN</td>\n",
              "      <td>NaN</td>\n",
              "      <td>NaN</td>\n",
              "      <td>NaN</td>\n",
              "      <td>NaN</td>\n",
              "      <td>NaN</td>\n",
              "      <td>NaN</td>\n",
              "      <td>NaN</td>\n",
              "      <td>NaN</td>\n",
              "      <td>NaN</td>\n",
              "    </tr>\n",
              "    <tr>\n",
              "      <th>5</th>\n",
              "      <td>NaN</td>\n",
              "      <td>NaN</td>\n",
              "      <td>NaN</td>\n",
              "      <td>NaN</td>\n",
              "      <td>NaN</td>\n",
              "      <td>NaN</td>\n",
              "      <td>NaN</td>\n",
              "      <td>NaN</td>\n",
              "      <td>NaN</td>\n",
              "      <td>NaN</td>\n",
              "      <td>...</td>\n",
              "      <td>NaN</td>\n",
              "      <td>NaN</td>\n",
              "      <td>NaN</td>\n",
              "      <td>NaN</td>\n",
              "      <td>NaN</td>\n",
              "      <td>NaN</td>\n",
              "      <td>NaN</td>\n",
              "      <td>NaN</td>\n",
              "      <td>NaN</td>\n",
              "      <td>NaN</td>\n",
              "    </tr>\n",
              "    <tr>\n",
              "      <th>...</th>\n",
              "      <td>...</td>\n",
              "      <td>...</td>\n",
              "      <td>...</td>\n",
              "      <td>...</td>\n",
              "      <td>...</td>\n",
              "      <td>...</td>\n",
              "      <td>...</td>\n",
              "      <td>...</td>\n",
              "      <td>...</td>\n",
              "      <td>...</td>\n",
              "      <td>...</td>\n",
              "      <td>...</td>\n",
              "      <td>...</td>\n",
              "      <td>...</td>\n",
              "      <td>...</td>\n",
              "      <td>...</td>\n",
              "      <td>...</td>\n",
              "      <td>...</td>\n",
              "      <td>...</td>\n",
              "      <td>...</td>\n",
              "      <td>...</td>\n",
              "    </tr>\n",
              "    <tr>\n",
              "      <th>606</th>\n",
              "      <td>NaN</td>\n",
              "      <td>NaN</td>\n",
              "      <td>NaN</td>\n",
              "      <td>NaN</td>\n",
              "      <td>NaN</td>\n",
              "      <td>NaN</td>\n",
              "      <td>NaN</td>\n",
              "      <td>NaN</td>\n",
              "      <td>NaN</td>\n",
              "      <td>NaN</td>\n",
              "      <td>...</td>\n",
              "      <td>NaN</td>\n",
              "      <td>NaN</td>\n",
              "      <td>NaN</td>\n",
              "      <td>NaN</td>\n",
              "      <td>NaN</td>\n",
              "      <td>NaN</td>\n",
              "      <td>NaN</td>\n",
              "      <td>NaN</td>\n",
              "      <td>NaN</td>\n",
              "      <td>NaN</td>\n",
              "    </tr>\n",
              "    <tr>\n",
              "      <th>607</th>\n",
              "      <td>NaN</td>\n",
              "      <td>NaN</td>\n",
              "      <td>NaN</td>\n",
              "      <td>NaN</td>\n",
              "      <td>NaN</td>\n",
              "      <td>NaN</td>\n",
              "      <td>NaN</td>\n",
              "      <td>NaN</td>\n",
              "      <td>NaN</td>\n",
              "      <td>NaN</td>\n",
              "      <td>...</td>\n",
              "      <td>NaN</td>\n",
              "      <td>NaN</td>\n",
              "      <td>NaN</td>\n",
              "      <td>NaN</td>\n",
              "      <td>NaN</td>\n",
              "      <td>NaN</td>\n",
              "      <td>NaN</td>\n",
              "      <td>NaN</td>\n",
              "      <td>NaN</td>\n",
              "      <td>NaN</td>\n",
              "    </tr>\n",
              "    <tr>\n",
              "      <th>608</th>\n",
              "      <td>NaN</td>\n",
              "      <td>NaN</td>\n",
              "      <td>NaN</td>\n",
              "      <td>NaN</td>\n",
              "      <td>NaN</td>\n",
              "      <td>NaN</td>\n",
              "      <td>NaN</td>\n",
              "      <td>NaN</td>\n",
              "      <td>NaN</td>\n",
              "      <td>NaN</td>\n",
              "      <td>...</td>\n",
              "      <td>NaN</td>\n",
              "      <td>NaN</td>\n",
              "      <td>NaN</td>\n",
              "      <td>NaN</td>\n",
              "      <td>NaN</td>\n",
              "      <td>4.5</td>\n",
              "      <td>3.5</td>\n",
              "      <td>NaN</td>\n",
              "      <td>NaN</td>\n",
              "      <td>NaN</td>\n",
              "    </tr>\n",
              "    <tr>\n",
              "      <th>609</th>\n",
              "      <td>NaN</td>\n",
              "      <td>NaN</td>\n",
              "      <td>NaN</td>\n",
              "      <td>NaN</td>\n",
              "      <td>NaN</td>\n",
              "      <td>NaN</td>\n",
              "      <td>NaN</td>\n",
              "      <td>NaN</td>\n",
              "      <td>NaN</td>\n",
              "      <td>NaN</td>\n",
              "      <td>...</td>\n",
              "      <td>NaN</td>\n",
              "      <td>NaN</td>\n",
              "      <td>NaN</td>\n",
              "      <td>NaN</td>\n",
              "      <td>NaN</td>\n",
              "      <td>NaN</td>\n",
              "      <td>NaN</td>\n",
              "      <td>NaN</td>\n",
              "      <td>NaN</td>\n",
              "      <td>NaN</td>\n",
              "    </tr>\n",
              "    <tr>\n",
              "      <th>610</th>\n",
              "      <td>4.0</td>\n",
              "      <td>NaN</td>\n",
              "      <td>NaN</td>\n",
              "      <td>NaN</td>\n",
              "      <td>NaN</td>\n",
              "      <td>NaN</td>\n",
              "      <td>NaN</td>\n",
              "      <td>NaN</td>\n",
              "      <td>3.5</td>\n",
              "      <td>NaN</td>\n",
              "      <td>...</td>\n",
              "      <td>NaN</td>\n",
              "      <td>4.0</td>\n",
              "      <td>3.5</td>\n",
              "      <td>3.0</td>\n",
              "      <td>NaN</td>\n",
              "      <td>NaN</td>\n",
              "      <td>2.0</td>\n",
              "      <td>1.5</td>\n",
              "      <td>NaN</td>\n",
              "      <td>NaN</td>\n",
              "    </tr>\n",
              "  </tbody>\n",
              "</table>\n",
              "<p>610 rows × 9719 columns</p>\n",
              "</div>"
            ],
            "text/plain": [
              "title   '71 (2014)  'Hellboy': The Seeds of Creation (2004)  \\\n",
              "userId                                                        \n",
              "1              NaN                                      NaN   \n",
              "2              NaN                                      NaN   \n",
              "3              NaN                                      NaN   \n",
              "4              NaN                                      NaN   \n",
              "5              NaN                                      NaN   \n",
              "...            ...                                      ...   \n",
              "606            NaN                                      NaN   \n",
              "607            NaN                                      NaN   \n",
              "608            NaN                                      NaN   \n",
              "609            NaN                                      NaN   \n",
              "610            4.0                                      NaN   \n",
              "\n",
              "title   'Round Midnight (1986)  'Salem's Lot (2004)  \\\n",
              "userId                                                \n",
              "1                          NaN                  NaN   \n",
              "2                          NaN                  NaN   \n",
              "3                          NaN                  NaN   \n",
              "4                          NaN                  NaN   \n",
              "5                          NaN                  NaN   \n",
              "...                        ...                  ...   \n",
              "606                        NaN                  NaN   \n",
              "607                        NaN                  NaN   \n",
              "608                        NaN                  NaN   \n",
              "609                        NaN                  NaN   \n",
              "610                        NaN                  NaN   \n",
              "\n",
              "title   'Til There Was You (1997)  'Tis the Season for Love (2015)  \\\n",
              "userId                                                               \n",
              "1                             NaN                              NaN   \n",
              "2                             NaN                              NaN   \n",
              "3                             NaN                              NaN   \n",
              "4                             NaN                              NaN   \n",
              "5                             NaN                              NaN   \n",
              "...                           ...                              ...   \n",
              "606                           NaN                              NaN   \n",
              "607                           NaN                              NaN   \n",
              "608                           NaN                              NaN   \n",
              "609                           NaN                              NaN   \n",
              "610                           NaN                              NaN   \n",
              "\n",
              "title   'burbs, The (1989)  'night Mother (1986)  (500) Days of Summer (2009)  \\\n",
              "userId                                                                          \n",
              "1                      NaN                   NaN                          NaN   \n",
              "2                      NaN                   NaN                          NaN   \n",
              "3                      NaN                   NaN                          NaN   \n",
              "4                      NaN                   NaN                          NaN   \n",
              "5                      NaN                   NaN                          NaN   \n",
              "...                    ...                   ...                          ...   \n",
              "606                    NaN                   NaN                          NaN   \n",
              "607                    NaN                   NaN                          NaN   \n",
              "608                    NaN                   NaN                          NaN   \n",
              "609                    NaN                   NaN                          NaN   \n",
              "610                    NaN                   NaN                          3.5   \n",
              "\n",
              "title   *batteries not included (1987)  ...  Zulu (2013)  [REC] (2007)  \\\n",
              "userId                                  ...                              \n",
              "1                                  NaN  ...          NaN           NaN   \n",
              "2                                  NaN  ...          NaN           NaN   \n",
              "3                                  NaN  ...          NaN           NaN   \n",
              "4                                  NaN  ...          NaN           NaN   \n",
              "5                                  NaN  ...          NaN           NaN   \n",
              "...                                ...  ...          ...           ...   \n",
              "606                                NaN  ...          NaN           NaN   \n",
              "607                                NaN  ...          NaN           NaN   \n",
              "608                                NaN  ...          NaN           NaN   \n",
              "609                                NaN  ...          NaN           NaN   \n",
              "610                                NaN  ...          NaN           4.0   \n",
              "\n",
              "title   [REC]² (2009)  [REC]³ 3 Génesis (2012)  \\\n",
              "userId                                           \n",
              "1                 NaN                      NaN   \n",
              "2                 NaN                      NaN   \n",
              "3                 NaN                      NaN   \n",
              "4                 NaN                      NaN   \n",
              "5                 NaN                      NaN   \n",
              "...               ...                      ...   \n",
              "606               NaN                      NaN   \n",
              "607               NaN                      NaN   \n",
              "608               NaN                      NaN   \n",
              "609               NaN                      NaN   \n",
              "610               3.5                      3.0   \n",
              "\n",
              "title   anohana: The Flower We Saw That Day - The Movie (2013)  \\\n",
              "userId                                                           \n",
              "1                                                     NaN        \n",
              "2                                                     NaN        \n",
              "3                                                     NaN        \n",
              "4                                                     NaN        \n",
              "5                                                     NaN        \n",
              "...                                                   ...        \n",
              "606                                                   NaN        \n",
              "607                                                   NaN        \n",
              "608                                                   NaN        \n",
              "609                                                   NaN        \n",
              "610                                                   NaN        \n",
              "\n",
              "title   eXistenZ (1999)  xXx (2002)  xXx: State of the Union (2005)  \\\n",
              "userId                                                                \n",
              "1                   NaN         NaN                             NaN   \n",
              "2                   NaN         NaN                             NaN   \n",
              "3                   NaN         NaN                             NaN   \n",
              "4                   NaN         NaN                             NaN   \n",
              "5                   NaN         NaN                             NaN   \n",
              "...                 ...         ...                             ...   \n",
              "606                 NaN         NaN                             NaN   \n",
              "607                 NaN         NaN                             NaN   \n",
              "608                 4.5         3.5                             NaN   \n",
              "609                 NaN         NaN                             NaN   \n",
              "610                 NaN         2.0                             1.5   \n",
              "\n",
              "title   ¡Three Amigos! (1986)  À nous la liberté (Freedom for Us) (1931)  \n",
              "userId                                                                    \n",
              "1                         4.0                                        NaN  \n",
              "2                         NaN                                        NaN  \n",
              "3                         NaN                                        NaN  \n",
              "4                         NaN                                        NaN  \n",
              "5                         NaN                                        NaN  \n",
              "...                       ...                                        ...  \n",
              "606                       NaN                                        NaN  \n",
              "607                       NaN                                        NaN  \n",
              "608                       NaN                                        NaN  \n",
              "609                       NaN                                        NaN  \n",
              "610                       NaN                                        NaN  \n",
              "\n",
              "[610 rows x 9719 columns]"
            ]
          },
          "execution_count": 45,
          "metadata": {},
          "output_type": "execute_result"
        }
      ],
      "source": [
        "user_movie_rating_matrix= merged_movie_df.pivot_table(index=\"userId\",columns=\"title\",values=\"rating\")\n",
        "\n",
        "user_movie_rating_matrix"
      ]
    },
    {
      "cell_type": "code",
      "execution_count": null,
      "id": "c8d8fa92",
      "metadata": {
        "id": "c8d8fa92",
        "outputId": "4fb714ff-f1d1-4102-c63d-9630d746a587"
      },
      "outputs": [
        {
          "data": {
            "text/plain": [
              "(610, 9719)"
            ]
          },
          "execution_count": 46,
          "metadata": {},
          "output_type": "execute_result"
        }
      ],
      "source": [
        "user_movie_rating_matrix.shape"
      ]
    },
    {
      "cell_type": "markdown",
      "id": "433e1811",
      "metadata": {
        "id": "433e1811"
      },
      "source": [
        "The Dataset contains 610 unique users and 9,719 unique movies\n",
        "\n",
        "Now we will find the movie recommendation based on a single movie and then based on multiplt movies.\n",
        "\n",
        "Finding recommendations based on a single movie- Suppose we want to find the recommendation based on the movie Pulp Fiction.\n",
        "\n",
        "First we will filter the column that contains the user ratings for the movie."
      ]
    },
    {
      "cell_type": "code",
      "execution_count": null,
      "id": "4ace5bd0",
      "metadata": {
        "id": "4ace5bd0"
      },
      "outputs": [],
      "source": [
        "pulp_fiction_ratings= user_movie_rating_matrix[\"Pulp Fiction (1994)\"]"
      ]
    },
    {
      "cell_type": "code",
      "execution_count": null,
      "id": "6fa2ace0",
      "metadata": {
        "id": "6fa2ace0",
        "outputId": "c5c4c448-e17c-4b31-e333-600f427c7d38"
      },
      "outputs": [
        {
          "name": "stderr",
          "output_type": "stream",
          "text": [
            "C:\\ProgramData\\Anaconda3\\lib\\site-packages\\numpy\\lib\\function_base.py:2683: RuntimeWarning: Degrees of freedom <= 0 for slice\n",
            "  c = cov(x, y, rowvar, dtype=dtype)\n",
            "C:\\ProgramData\\Anaconda3\\lib\\site-packages\\numpy\\lib\\function_base.py:2542: RuntimeWarning: divide by zero encountered in true_divide\n",
            "  c *= np.true_divide(1, fact)\n"
          ]
        }
      ],
      "source": [
        "pulp_fiction_correlations=pd.DataFrame(user_movie_rating_matrix.corrwith(pulp_fiction_ratings),columns=[\"pf_corr\"])"
      ]
    },
    {
      "cell_type": "code",
      "execution_count": null,
      "id": "8019b5bc",
      "metadata": {
        "id": "8019b5bc",
        "outputId": "b3a9fa17-5ada-4807-f20c-dde91ca93aa4"
      },
      "outputs": [
        {
          "data": {
            "text/html": [
              "<div>\n",
              "<style scoped>\n",
              "    .dataframe tbody tr th:only-of-type {\n",
              "        vertical-align: middle;\n",
              "    }\n",
              "\n",
              "    .dataframe tbody tr th {\n",
              "        vertical-align: top;\n",
              "    }\n",
              "\n",
              "    .dataframe thead th {\n",
              "        text-align: right;\n",
              "    }\n",
              "</style>\n",
              "<table border=\"1\" class=\"dataframe\">\n",
              "  <thead>\n",
              "    <tr style=\"text-align: right;\">\n",
              "      <th></th>\n",
              "      <th>pf_corr</th>\n",
              "    </tr>\n",
              "    <tr>\n",
              "      <th>title</th>\n",
              "      <th></th>\n",
              "    </tr>\n",
              "  </thead>\n",
              "  <tbody>\n",
              "    <tr>\n",
              "      <th>Rare Exports: A Christmas Tale (Rare Exports) (2010)</th>\n",
              "      <td>1.0</td>\n",
              "    </tr>\n",
              "    <tr>\n",
              "      <th>Azumi (2003)</th>\n",
              "      <td>1.0</td>\n",
              "    </tr>\n",
              "    <tr>\n",
              "      <th>Maxed Out: Hard Times, Easy Credit and the Era of Predatory Lenders (2006)</th>\n",
              "      <td>1.0</td>\n",
              "    </tr>\n",
              "    <tr>\n",
              "      <th>War Zone, The (1999)</th>\n",
              "      <td>1.0</td>\n",
              "    </tr>\n",
              "    <tr>\n",
              "      <th>Wolfman, The (2010)</th>\n",
              "      <td>1.0</td>\n",
              "    </tr>\n",
              "  </tbody>\n",
              "</table>\n",
              "</div>"
            ],
            "text/plain": [
              "                                                    pf_corr\n",
              "title                                                      \n",
              "Rare Exports: A Christmas Tale (Rare Exports) (...      1.0\n",
              "Azumi (2003)                                            1.0\n",
              "Maxed Out: Hard Times, Easy Credit and the Era ...      1.0\n",
              "War Zone, The (1999)                                    1.0\n",
              "Wolfman, The (2010)                                     1.0"
            ]
          },
          "execution_count": 49,
          "metadata": {},
          "output_type": "execute_result"
        }
      ],
      "source": [
        "pulp_fiction_correlations.sort_values(\"pf_corr\",ascending=False).head(5)"
      ]
    },
    {
      "cell_type": "markdown",
      "id": "84607f75",
      "metadata": {
        "id": "84607f75"
      },
      "source": [
        "Correlation itself is not giving meaningful results, one solution to this problem can be that in addition to the correlation between the movies, we also use rating counts, for the correlated movie as a criteria for finding the best recommendation."
      ]
    },
    {
      "cell_type": "code",
      "execution_count": null,
      "id": "8c61fa11",
      "metadata": {
        "id": "8c61fa11",
        "outputId": "c184627e-29a0-42e6-e8af-0f9695c37459"
      },
      "outputs": [
        {
          "data": {
            "text/html": [
              "<div>\n",
              "<style scoped>\n",
              "    .dataframe tbody tr th:only-of-type {\n",
              "        vertical-align: middle;\n",
              "    }\n",
              "\n",
              "    .dataframe tbody tr th {\n",
              "        vertical-align: top;\n",
              "    }\n",
              "\n",
              "    .dataframe thead th {\n",
              "        text-align: right;\n",
              "    }\n",
              "</style>\n",
              "<table border=\"1\" class=\"dataframe\">\n",
              "  <thead>\n",
              "    <tr style=\"text-align: right;\">\n",
              "      <th></th>\n",
              "      <th>pf_corr</th>\n",
              "      <th>rating_count</th>\n",
              "    </tr>\n",
              "    <tr>\n",
              "      <th>title</th>\n",
              "      <th></th>\n",
              "      <th></th>\n",
              "    </tr>\n",
              "  </thead>\n",
              "  <tbody>\n",
              "    <tr>\n",
              "      <th>'71 (2014)</th>\n",
              "      <td>NaN</td>\n",
              "      <td>1</td>\n",
              "    </tr>\n",
              "    <tr>\n",
              "      <th>'Hellboy': The Seeds of Creation (2004)</th>\n",
              "      <td>NaN</td>\n",
              "      <td>1</td>\n",
              "    </tr>\n",
              "    <tr>\n",
              "      <th>'Round Midnight (1986)</th>\n",
              "      <td>NaN</td>\n",
              "      <td>2</td>\n",
              "    </tr>\n",
              "    <tr>\n",
              "      <th>'Salem's Lot (2004)</th>\n",
              "      <td>NaN</td>\n",
              "      <td>1</td>\n",
              "    </tr>\n",
              "    <tr>\n",
              "      <th>'Til There Was You (1997)</th>\n",
              "      <td>NaN</td>\n",
              "      <td>2</td>\n",
              "    </tr>\n",
              "  </tbody>\n",
              "</table>\n",
              "</div>"
            ],
            "text/plain": [
              "                                         pf_corr  rating_count\n",
              "title                                                         \n",
              "'71 (2014)                                   NaN             1\n",
              "'Hellboy': The Seeds of Creation (2004)      NaN             1\n",
              "'Round Midnight (1986)                       NaN             2\n",
              "'Salem's Lot (2004)                          NaN             1\n",
              "'Til There Was You (1997)                    NaN             2"
            ]
          },
          "execution_count": 50,
          "metadata": {},
          "output_type": "execute_result"
        }
      ],
      "source": [
        "pulp_fiction_correlations=pulp_fiction_correlations.join(movie_rating_mean_count[\"rating_count\"])\n",
        "\n",
        "pulp_fiction_correlations.head()"
      ]
    },
    {
      "cell_type": "markdown",
      "id": "322a826a",
      "metadata": {
        "id": "322a826a"
      },
      "source": [
        "The pf_corr column contains some NaN values. This is because there can be movies that are rated by users who did not rate Pulp Fiction (1994). In such cases, correlation will be null\n",
        "\n",
        "We will remove all the movies with null correlation with Pulp Fiction (1994)"
      ]
    },
    {
      "cell_type": "code",
      "execution_count": null,
      "id": "876c800d",
      "metadata": {
        "id": "876c800d"
      },
      "outputs": [],
      "source": [
        "pulp_fiction_correlations.dropna(inplace=True)"
      ]
    },
    {
      "cell_type": "code",
      "execution_count": null,
      "id": "a0132f30",
      "metadata": {
        "id": "a0132f30",
        "outputId": "daf5e032-b1ff-4c31-b6b3-f37f1ec281be"
      },
      "outputs": [
        {
          "data": {
            "text/html": [
              "<div>\n",
              "<style scoped>\n",
              "    .dataframe tbody tr th:only-of-type {\n",
              "        vertical-align: middle;\n",
              "    }\n",
              "\n",
              "    .dataframe tbody tr th {\n",
              "        vertical-align: top;\n",
              "    }\n",
              "\n",
              "    .dataframe thead th {\n",
              "        text-align: right;\n",
              "    }\n",
              "</style>\n",
              "<table border=\"1\" class=\"dataframe\">\n",
              "  <thead>\n",
              "    <tr style=\"text-align: right;\">\n",
              "      <th></th>\n",
              "      <th>pf_corr</th>\n",
              "      <th>rating_count</th>\n",
              "    </tr>\n",
              "    <tr>\n",
              "      <th>title</th>\n",
              "      <th></th>\n",
              "      <th></th>\n",
              "    </tr>\n",
              "  </thead>\n",
              "  <tbody>\n",
              "    <tr>\n",
              "      <th>Rare Exports: A Christmas Tale (Rare Exports) (2010)</th>\n",
              "      <td>1.0</td>\n",
              "      <td>2</td>\n",
              "    </tr>\n",
              "    <tr>\n",
              "      <th>Azumi (2003)</th>\n",
              "      <td>1.0</td>\n",
              "      <td>2</td>\n",
              "    </tr>\n",
              "    <tr>\n",
              "      <th>Maxed Out: Hard Times, Easy Credit and the Era of Predatory Lenders (2006)</th>\n",
              "      <td>1.0</td>\n",
              "      <td>2</td>\n",
              "    </tr>\n",
              "    <tr>\n",
              "      <th>War Zone, The (1999)</th>\n",
              "      <td>1.0</td>\n",
              "      <td>2</td>\n",
              "    </tr>\n",
              "    <tr>\n",
              "      <th>Wolfman, The (2010)</th>\n",
              "      <td>1.0</td>\n",
              "      <td>2</td>\n",
              "    </tr>\n",
              "  </tbody>\n",
              "</table>\n",
              "</div>"
            ],
            "text/plain": [
              "                                                    pf_corr  rating_count\n",
              "title                                                                    \n",
              "Rare Exports: A Christmas Tale (Rare Exports) (...      1.0             2\n",
              "Azumi (2003)                                            1.0             2\n",
              "Maxed Out: Hard Times, Easy Credit and the Era ...      1.0             2\n",
              "War Zone, The (1999)                                    1.0             2\n",
              "Wolfman, The (2010)                                     1.0             2"
            ]
          },
          "execution_count": 52,
          "metadata": {},
          "output_type": "execute_result"
        }
      ],
      "source": [
        "pulp_fiction_correlations.sort_values(\"pf_corr\",ascending=False).head()"
      ]
    },
    {
      "cell_type": "markdown",
      "id": "06f3fc7c",
      "metadata": {
        "id": "06f3fc7c"
      },
      "source": [
        "A better way is to find the movies with the rating counts of atlease 50 and having the highest correlation with Pulp Fiction (1994)"
      ]
    },
    {
      "cell_type": "code",
      "execution_count": null,
      "id": "c08a2f5c",
      "metadata": {
        "id": "c08a2f5c",
        "outputId": "f561d1a8-c228-423f-b7b0-b2f4d4a6388f"
      },
      "outputs": [
        {
          "data": {
            "text/html": [
              "<div>\n",
              "<style scoped>\n",
              "    .dataframe tbody tr th:only-of-type {\n",
              "        vertical-align: middle;\n",
              "    }\n",
              "\n",
              "    .dataframe tbody tr th {\n",
              "        vertical-align: top;\n",
              "    }\n",
              "\n",
              "    .dataframe thead th {\n",
              "        text-align: right;\n",
              "    }\n",
              "</style>\n",
              "<table border=\"1\" class=\"dataframe\">\n",
              "  <thead>\n",
              "    <tr style=\"text-align: right;\">\n",
              "      <th></th>\n",
              "      <th>pf_corr</th>\n",
              "      <th>rating_count</th>\n",
              "    </tr>\n",
              "    <tr>\n",
              "      <th>title</th>\n",
              "      <th></th>\n",
              "      <th></th>\n",
              "    </tr>\n",
              "  </thead>\n",
              "  <tbody>\n",
              "    <tr>\n",
              "      <th>Pulp Fiction (1994)</th>\n",
              "      <td>1.000000</td>\n",
              "      <td>307</td>\n",
              "    </tr>\n",
              "    <tr>\n",
              "      <th>Wolf of Wall Street, The (2013)</th>\n",
              "      <td>0.579915</td>\n",
              "      <td>54</td>\n",
              "    </tr>\n",
              "    <tr>\n",
              "      <th>Fight Club (1999)</th>\n",
              "      <td>0.543465</td>\n",
              "      <td>218</td>\n",
              "    </tr>\n",
              "    <tr>\n",
              "      <th>Kill Bill: Vol. 1 (2003)</th>\n",
              "      <td>0.504147</td>\n",
              "      <td>131</td>\n",
              "    </tr>\n",
              "    <tr>\n",
              "      <th>Interstellar (2014)</th>\n",
              "      <td>0.503411</td>\n",
              "      <td>73</td>\n",
              "    </tr>\n",
              "  </tbody>\n",
              "</table>\n",
              "</div>"
            ],
            "text/plain": [
              "                                  pf_corr  rating_count\n",
              "title                                                  \n",
              "Pulp Fiction (1994)              1.000000           307\n",
              "Wolf of Wall Street, The (2013)  0.579915            54\n",
              "Fight Club (1999)                0.543465           218\n",
              "Kill Bill: Vol. 1 (2003)         0.504147           131\n",
              "Interstellar (2014)              0.503411            73"
            ]
          },
          "execution_count": 53,
          "metadata": {},
          "output_type": "execute_result"
        }
      ],
      "source": [
        "pulp_fiction_correlations_50=pulp_fiction_correlations[pulp_fiction_correlations['rating_count']>50]\n",
        "\n",
        "pulp_fiction_correlations_50.sort_values(\"pf_corr\",ascending=False).head()"
      ]
    },
    {
      "cell_type": "markdown",
      "id": "7545195b",
      "metadata": {
        "id": "7545195b"
      },
      "source": [
        "Finding the recommendation based on multiple movies- In this we will see how to recommend movies to a user based on his ratings of multiple movies.\n",
        "\n",
        "The first step is to create a dataframe, which contains a correlation between all the movies in our dataset in the form of a matrix."
      ]
    },
    {
      "cell_type": "code",
      "execution_count": null,
      "id": "37220aa8",
      "metadata": {
        "id": "37220aa8"
      },
      "outputs": [],
      "source": [
        "all_movie_correlations=user_movie_rating_matrix.corr(method=\"pearson\",min_periods=50)"
      ]
    },
    {
      "cell_type": "code",
      "execution_count": null,
      "id": "8fe2f560",
      "metadata": {
        "id": "8fe2f560",
        "outputId": "9453f3b4-edae-491a-aac2-e0051772b1ee"
      },
      "outputs": [
        {
          "data": {
            "text/html": [
              "<div>\n",
              "<style scoped>\n",
              "    .dataframe tbody tr th:only-of-type {\n",
              "        vertical-align: middle;\n",
              "    }\n",
              "\n",
              "    .dataframe tbody tr th {\n",
              "        vertical-align: top;\n",
              "    }\n",
              "\n",
              "    .dataframe thead th {\n",
              "        text-align: right;\n",
              "    }\n",
              "</style>\n",
              "<table border=\"1\" class=\"dataframe\">\n",
              "  <thead>\n",
              "    <tr style=\"text-align: right;\">\n",
              "      <th>title</th>\n",
              "      <th>'71 (2014)</th>\n",
              "      <th>'Hellboy': The Seeds of Creation (2004)</th>\n",
              "      <th>'Round Midnight (1986)</th>\n",
              "      <th>'Salem's Lot (2004)</th>\n",
              "      <th>'Til There Was You (1997)</th>\n",
              "      <th>'Tis the Season for Love (2015)</th>\n",
              "      <th>'burbs, The (1989)</th>\n",
              "      <th>'night Mother (1986)</th>\n",
              "      <th>(500) Days of Summer (2009)</th>\n",
              "      <th>*batteries not included (1987)</th>\n",
              "      <th>...</th>\n",
              "      <th>Zulu (2013)</th>\n",
              "      <th>[REC] (2007)</th>\n",
              "      <th>[REC]² (2009)</th>\n",
              "      <th>[REC]³ 3 Génesis (2012)</th>\n",
              "      <th>anohana: The Flower We Saw That Day - The Movie (2013)</th>\n",
              "      <th>eXistenZ (1999)</th>\n",
              "      <th>xXx (2002)</th>\n",
              "      <th>xXx: State of the Union (2005)</th>\n",
              "      <th>¡Three Amigos! (1986)</th>\n",
              "      <th>À nous la liberté (Freedom for Us) (1931)</th>\n",
              "    </tr>\n",
              "    <tr>\n",
              "      <th>title</th>\n",
              "      <th></th>\n",
              "      <th></th>\n",
              "      <th></th>\n",
              "      <th></th>\n",
              "      <th></th>\n",
              "      <th></th>\n",
              "      <th></th>\n",
              "      <th></th>\n",
              "      <th></th>\n",
              "      <th></th>\n",
              "      <th></th>\n",
              "      <th></th>\n",
              "      <th></th>\n",
              "      <th></th>\n",
              "      <th></th>\n",
              "      <th></th>\n",
              "      <th></th>\n",
              "      <th></th>\n",
              "      <th></th>\n",
              "      <th></th>\n",
              "      <th></th>\n",
              "    </tr>\n",
              "  </thead>\n",
              "  <tbody>\n",
              "    <tr>\n",
              "      <th>'71 (2014)</th>\n",
              "      <td>NaN</td>\n",
              "      <td>NaN</td>\n",
              "      <td>NaN</td>\n",
              "      <td>NaN</td>\n",
              "      <td>NaN</td>\n",
              "      <td>NaN</td>\n",
              "      <td>NaN</td>\n",
              "      <td>NaN</td>\n",
              "      <td>NaN</td>\n",
              "      <td>NaN</td>\n",
              "      <td>...</td>\n",
              "      <td>NaN</td>\n",
              "      <td>NaN</td>\n",
              "      <td>NaN</td>\n",
              "      <td>NaN</td>\n",
              "      <td>NaN</td>\n",
              "      <td>NaN</td>\n",
              "      <td>NaN</td>\n",
              "      <td>NaN</td>\n",
              "      <td>NaN</td>\n",
              "      <td>NaN</td>\n",
              "    </tr>\n",
              "    <tr>\n",
              "      <th>'Hellboy': The Seeds of Creation (2004)</th>\n",
              "      <td>NaN</td>\n",
              "      <td>NaN</td>\n",
              "      <td>NaN</td>\n",
              "      <td>NaN</td>\n",
              "      <td>NaN</td>\n",
              "      <td>NaN</td>\n",
              "      <td>NaN</td>\n",
              "      <td>NaN</td>\n",
              "      <td>NaN</td>\n",
              "      <td>NaN</td>\n",
              "      <td>...</td>\n",
              "      <td>NaN</td>\n",
              "      <td>NaN</td>\n",
              "      <td>NaN</td>\n",
              "      <td>NaN</td>\n",
              "      <td>NaN</td>\n",
              "      <td>NaN</td>\n",
              "      <td>NaN</td>\n",
              "      <td>NaN</td>\n",
              "      <td>NaN</td>\n",
              "      <td>NaN</td>\n",
              "    </tr>\n",
              "    <tr>\n",
              "      <th>'Round Midnight (1986)</th>\n",
              "      <td>NaN</td>\n",
              "      <td>NaN</td>\n",
              "      <td>NaN</td>\n",
              "      <td>NaN</td>\n",
              "      <td>NaN</td>\n",
              "      <td>NaN</td>\n",
              "      <td>NaN</td>\n",
              "      <td>NaN</td>\n",
              "      <td>NaN</td>\n",
              "      <td>NaN</td>\n",
              "      <td>...</td>\n",
              "      <td>NaN</td>\n",
              "      <td>NaN</td>\n",
              "      <td>NaN</td>\n",
              "      <td>NaN</td>\n",
              "      <td>NaN</td>\n",
              "      <td>NaN</td>\n",
              "      <td>NaN</td>\n",
              "      <td>NaN</td>\n",
              "      <td>NaN</td>\n",
              "      <td>NaN</td>\n",
              "    </tr>\n",
              "    <tr>\n",
              "      <th>'Salem's Lot (2004)</th>\n",
              "      <td>NaN</td>\n",
              "      <td>NaN</td>\n",
              "      <td>NaN</td>\n",
              "      <td>NaN</td>\n",
              "      <td>NaN</td>\n",
              "      <td>NaN</td>\n",
              "      <td>NaN</td>\n",
              "      <td>NaN</td>\n",
              "      <td>NaN</td>\n",
              "      <td>NaN</td>\n",
              "      <td>...</td>\n",
              "      <td>NaN</td>\n",
              "      <td>NaN</td>\n",
              "      <td>NaN</td>\n",
              "      <td>NaN</td>\n",
              "      <td>NaN</td>\n",
              "      <td>NaN</td>\n",
              "      <td>NaN</td>\n",
              "      <td>NaN</td>\n",
              "      <td>NaN</td>\n",
              "      <td>NaN</td>\n",
              "    </tr>\n",
              "    <tr>\n",
              "      <th>'Til There Was You (1997)</th>\n",
              "      <td>NaN</td>\n",
              "      <td>NaN</td>\n",
              "      <td>NaN</td>\n",
              "      <td>NaN</td>\n",
              "      <td>NaN</td>\n",
              "      <td>NaN</td>\n",
              "      <td>NaN</td>\n",
              "      <td>NaN</td>\n",
              "      <td>NaN</td>\n",
              "      <td>NaN</td>\n",
              "      <td>...</td>\n",
              "      <td>NaN</td>\n",
              "      <td>NaN</td>\n",
              "      <td>NaN</td>\n",
              "      <td>NaN</td>\n",
              "      <td>NaN</td>\n",
              "      <td>NaN</td>\n",
              "      <td>NaN</td>\n",
              "      <td>NaN</td>\n",
              "      <td>NaN</td>\n",
              "      <td>NaN</td>\n",
              "    </tr>\n",
              "  </tbody>\n",
              "</table>\n",
              "<p>5 rows × 9719 columns</p>\n",
              "</div>"
            ],
            "text/plain": [
              "title                                    '71 (2014)  \\\n",
              "title                                                 \n",
              "'71 (2014)                                      NaN   \n",
              "'Hellboy': The Seeds of Creation (2004)         NaN   \n",
              "'Round Midnight (1986)                          NaN   \n",
              "'Salem's Lot (2004)                             NaN   \n",
              "'Til There Was You (1997)                       NaN   \n",
              "\n",
              "title                                    'Hellboy': The Seeds of Creation (2004)  \\\n",
              "title                                                                              \n",
              "'71 (2014)                                                                   NaN   \n",
              "'Hellboy': The Seeds of Creation (2004)                                      NaN   \n",
              "'Round Midnight (1986)                                                       NaN   \n",
              "'Salem's Lot (2004)                                                          NaN   \n",
              "'Til There Was You (1997)                                                    NaN   \n",
              "\n",
              "title                                    'Round Midnight (1986)  \\\n",
              "title                                                             \n",
              "'71 (2014)                                                  NaN   \n",
              "'Hellboy': The Seeds of Creation (2004)                     NaN   \n",
              "'Round Midnight (1986)                                      NaN   \n",
              "'Salem's Lot (2004)                                         NaN   \n",
              "'Til There Was You (1997)                                   NaN   \n",
              "\n",
              "title                                    'Salem's Lot (2004)  \\\n",
              "title                                                          \n",
              "'71 (2014)                                               NaN   \n",
              "'Hellboy': The Seeds of Creation (2004)                  NaN   \n",
              "'Round Midnight (1986)                                   NaN   \n",
              "'Salem's Lot (2004)                                      NaN   \n",
              "'Til There Was You (1997)                                NaN   \n",
              "\n",
              "title                                    'Til There Was You (1997)  \\\n",
              "title                                                                \n",
              "'71 (2014)                                                     NaN   \n",
              "'Hellboy': The Seeds of Creation (2004)                        NaN   \n",
              "'Round Midnight (1986)                                         NaN   \n",
              "'Salem's Lot (2004)                                            NaN   \n",
              "'Til There Was You (1997)                                      NaN   \n",
              "\n",
              "title                                    'Tis the Season for Love (2015)  \\\n",
              "title                                                                      \n",
              "'71 (2014)                                                           NaN   \n",
              "'Hellboy': The Seeds of Creation (2004)                              NaN   \n",
              "'Round Midnight (1986)                                               NaN   \n",
              "'Salem's Lot (2004)                                                  NaN   \n",
              "'Til There Was You (1997)                                            NaN   \n",
              "\n",
              "title                                    'burbs, The (1989)  \\\n",
              "title                                                         \n",
              "'71 (2014)                                              NaN   \n",
              "'Hellboy': The Seeds of Creation (2004)                 NaN   \n",
              "'Round Midnight (1986)                                  NaN   \n",
              "'Salem's Lot (2004)                                     NaN   \n",
              "'Til There Was You (1997)                               NaN   \n",
              "\n",
              "title                                    'night Mother (1986)  \\\n",
              "title                                                           \n",
              "'71 (2014)                                                NaN   \n",
              "'Hellboy': The Seeds of Creation (2004)                   NaN   \n",
              "'Round Midnight (1986)                                    NaN   \n",
              "'Salem's Lot (2004)                                       NaN   \n",
              "'Til There Was You (1997)                                 NaN   \n",
              "\n",
              "title                                    (500) Days of Summer (2009)  \\\n",
              "title                                                                  \n",
              "'71 (2014)                                                       NaN   \n",
              "'Hellboy': The Seeds of Creation (2004)                          NaN   \n",
              "'Round Midnight (1986)                                           NaN   \n",
              "'Salem's Lot (2004)                                              NaN   \n",
              "'Til There Was You (1997)                                        NaN   \n",
              "\n",
              "title                                    *batteries not included (1987)  ...  \\\n",
              "title                                                                    ...   \n",
              "'71 (2014)                                                          NaN  ...   \n",
              "'Hellboy': The Seeds of Creation (2004)                             NaN  ...   \n",
              "'Round Midnight (1986)                                              NaN  ...   \n",
              "'Salem's Lot (2004)                                                 NaN  ...   \n",
              "'Til There Was You (1997)                                           NaN  ...   \n",
              "\n",
              "title                                    Zulu (2013)  [REC] (2007)  \\\n",
              "title                                                                \n",
              "'71 (2014)                                       NaN           NaN   \n",
              "'Hellboy': The Seeds of Creation (2004)          NaN           NaN   \n",
              "'Round Midnight (1986)                           NaN           NaN   \n",
              "'Salem's Lot (2004)                              NaN           NaN   \n",
              "'Til There Was You (1997)                        NaN           NaN   \n",
              "\n",
              "title                                    [REC]² (2009)  \\\n",
              "title                                                    \n",
              "'71 (2014)                                         NaN   \n",
              "'Hellboy': The Seeds of Creation (2004)            NaN   \n",
              "'Round Midnight (1986)                             NaN   \n",
              "'Salem's Lot (2004)                                NaN   \n",
              "'Til There Was You (1997)                          NaN   \n",
              "\n",
              "title                                    [REC]³ 3 Génesis (2012)  \\\n",
              "title                                                              \n",
              "'71 (2014)                                                   NaN   \n",
              "'Hellboy': The Seeds of Creation (2004)                      NaN   \n",
              "'Round Midnight (1986)                                       NaN   \n",
              "'Salem's Lot (2004)                                          NaN   \n",
              "'Til There Was You (1997)                                    NaN   \n",
              "\n",
              "title                                    anohana: The Flower We Saw That Day - The Movie (2013)  \\\n",
              "title                                                                                             \n",
              "'71 (2014)                                                                             NaN        \n",
              "'Hellboy': The Seeds of Creation (2004)                                                NaN        \n",
              "'Round Midnight (1986)                                                                 NaN        \n",
              "'Salem's Lot (2004)                                                                    NaN        \n",
              "'Til There Was You (1997)                                                              NaN        \n",
              "\n",
              "title                                    eXistenZ (1999)  xXx (2002)  \\\n",
              "title                                                                  \n",
              "'71 (2014)                                           NaN         NaN   \n",
              "'Hellboy': The Seeds of Creation (2004)              NaN         NaN   \n",
              "'Round Midnight (1986)                               NaN         NaN   \n",
              "'Salem's Lot (2004)                                  NaN         NaN   \n",
              "'Til There Was You (1997)                            NaN         NaN   \n",
              "\n",
              "title                                    xXx: State of the Union (2005)  \\\n",
              "title                                                                     \n",
              "'71 (2014)                                                          NaN   \n",
              "'Hellboy': The Seeds of Creation (2004)                             NaN   \n",
              "'Round Midnight (1986)                                              NaN   \n",
              "'Salem's Lot (2004)                                                 NaN   \n",
              "'Til There Was You (1997)                                           NaN   \n",
              "\n",
              "title                                    ¡Three Amigos! (1986)  \\\n",
              "title                                                            \n",
              "'71 (2014)                                                 NaN   \n",
              "'Hellboy': The Seeds of Creation (2004)                    NaN   \n",
              "'Round Midnight (1986)                                     NaN   \n",
              "'Salem's Lot (2004)                                        NaN   \n",
              "'Til There Was You (1997)                                  NaN   \n",
              "\n",
              "title                                    À nous la liberté (Freedom for Us) (1931)  \n",
              "title                                                                               \n",
              "'71 (2014)                                                                     NaN  \n",
              "'Hellboy': The Seeds of Creation (2004)                                        NaN  \n",
              "'Round Midnight (1986)                                                         NaN  \n",
              "'Salem's Lot (2004)                                                            NaN  \n",
              "'Til There Was You (1997)                                                      NaN  \n",
              "\n",
              "[5 rows x 9719 columns]"
            ]
          },
          "execution_count": 55,
          "metadata": {},
          "output_type": "execute_result"
        }
      ],
      "source": [
        "all_movie_correlations.head()"
      ]
    },
    {
      "cell_type": "markdown",
      "id": "12d35041",
      "metadata": {
        "id": "12d35041"
      },
      "source": [
        "Now supose a new user logs into the website. The user has already watched three movies and has given ratings to those movies."
      ]
    },
    {
      "cell_type": "code",
      "execution_count": null,
      "id": "42ec9440",
      "metadata": {
        "id": "42ec9440",
        "outputId": "b864afb7-9503-4801-9146-aeb65242f8f0"
      },
      "outputs": [
        {
          "data": {
            "text/html": [
              "<div>\n",
              "<style scoped>\n",
              "    .dataframe tbody tr th:only-of-type {\n",
              "        vertical-align: middle;\n",
              "    }\n",
              "\n",
              "    .dataframe tbody tr th {\n",
              "        vertical-align: top;\n",
              "    }\n",
              "\n",
              "    .dataframe thead th {\n",
              "        text-align: right;\n",
              "    }\n",
              "</style>\n",
              "<table border=\"1\" class=\"dataframe\">\n",
              "  <thead>\n",
              "    <tr style=\"text-align: right;\">\n",
              "      <th></th>\n",
              "      <th>Movie_Name</th>\n",
              "      <th>Movie_Rating</th>\n",
              "    </tr>\n",
              "  </thead>\n",
              "  <tbody>\n",
              "    <tr>\n",
              "      <th>0</th>\n",
              "      <td>Forrest Gump (1994)</td>\n",
              "      <td>4.0</td>\n",
              "    </tr>\n",
              "    <tr>\n",
              "      <th>1</th>\n",
              "      <td>Fight Club (1999)</td>\n",
              "      <td>3.5</td>\n",
              "    </tr>\n",
              "    <tr>\n",
              "      <th>2</th>\n",
              "      <td>Interstellar (2014)</td>\n",
              "      <td>4.0</td>\n",
              "    </tr>\n",
              "  </tbody>\n",
              "</table>\n",
              "</div>"
            ],
            "text/plain": [
              "            Movie_Name  Movie_Rating\n",
              "0  Forrest Gump (1994)           4.0\n",
              "1    Fight Club (1999)           3.5\n",
              "2  Interstellar (2014)           4.0"
            ]
          },
          "execution_count": 56,
          "metadata": {},
          "output_type": "execute_result"
        }
      ],
      "source": [
        "movie_data=[['Forrest Gump (1994)',4.0],['Fight Club (1999)',3.5],['Interstellar (2014)',4.0]]\n",
        "\n",
        "test_movies=pd.DataFrame(movie_data,columns=['Movie_Name','Movie_Rating'])\n",
        "\n",
        "test_movies.head()"
      ]
    },
    {
      "cell_type": "markdown",
      "id": "d62094bd",
      "metadata": {
        "id": "d62094bd"
      },
      "source": [
        "We will be recommending movies from our dataset based on the ratings by a new user for these three movies"
      ]
    },
    {
      "cell_type": "code",
      "execution_count": null,
      "id": "8ed7c39f",
      "metadata": {
        "id": "8ed7c39f",
        "outputId": "cbe01c46-3c45-44f1-bc85-874c20791a01"
      },
      "outputs": [
        {
          "name": "stdout",
          "output_type": "stream",
          "text": [
            "Forrest Gump (1994)\n",
            "4.0\n"
          ]
        }
      ],
      "source": [
        "print(test_movies['Movie_Name'][0])\n",
        "print(test_movies['Movie_Rating'][0])"
      ]
    },
    {
      "cell_type": "markdown",
      "id": "c44028e1",
      "metadata": {
        "id": "c44028e1"
      },
      "source": [
        "From all_movie_correlations dataframe, let's obtain correlation values for the movies related to Forrest Gump (1994)"
      ]
    },
    {
      "cell_type": "code",
      "execution_count": null,
      "id": "003f525a",
      "metadata": {
        "id": "003f525a",
        "outputId": "59aa5acb-ba3e-4418-d161-e9cf6c493cfb"
      },
      "outputs": [
        {
          "data": {
            "text/plain": [
              "title\n",
              "2001: A Space Odyssey (1968)                  0.191558\n",
              "300 (2007)                                    0.321523\n",
              "40-Year-Old Virgin, The (2005)                0.156517\n",
              "Ace Ventura: Pet Detective (1994)             0.137870\n",
              "Ace Ventura: When Nature Calls (1995)         0.421868\n",
              "                                                ...   \n",
              "Willy Wonka & the Chocolate Factory (1971)    0.195081\n",
              "Wizard of Oz, The (1939)                      0.162368\n",
              "X-Men (2000)                                  0.200786\n",
              "X2: X-Men United (2003)                       0.246717\n",
              "Young Frankenstein (1974)                     0.230049\n",
              "Name: Forrest Gump (1994), Length: 313, dtype: float64"
            ]
          },
          "execution_count": 58,
          "metadata": {},
          "output_type": "execute_result"
        }
      ],
      "source": [
        "all_movie_correlations['Forrest Gump (1994)'].dropna()"
      ]
    },
    {
      "cell_type": "markdown",
      "id": "419a08fa",
      "metadata": {
        "id": "419a08fa"
      },
      "source": [
        "Next, we will iterate through the three movies in the test_movie dataframe, find the correlated movies, and then multiply the correlation of all he correlated movies with the atings of the input movie.\n",
        "\n",
        "The correlated movies, alongwith the weighted correlation are appended to an empty series named recommended movies."
      ]
    },
    {
      "cell_type": "code",
      "execution_count": null,
      "id": "3f46447a",
      "metadata": {
        "id": "3f46447a",
        "outputId": "05106890-8ead-42ce-f957-ef9299fcdd09"
      },
      "outputs": [
        {
          "name": "stderr",
          "output_type": "stream",
          "text": [
            "C:\\Users\\Mohit Tripathi\\AppData\\Local\\Temp\\ipykernel_7008\\385091499.py:1: FutureWarning: The default dtype for empty Series will be 'object' instead of 'float64' in a future version. Specify a dtype explicitly to silence this warning.\n",
            "  recommended_movies=pd.Series()\n",
            "C:\\Users\\Mohit Tripathi\\AppData\\Local\\Temp\\ipykernel_7008\\385091499.py:6: FutureWarning: The series.append method is deprecated and will be removed from pandas in a future version. Use pandas.concat instead.\n",
            "  recommended_movies=recommended_movies.append(movie)\n",
            "C:\\Users\\Mohit Tripathi\\AppData\\Local\\Temp\\ipykernel_7008\\385091499.py:6: FutureWarning: The series.append method is deprecated and will be removed from pandas in a future version. Use pandas.concat instead.\n",
            "  recommended_movies=recommended_movies.append(movie)\n"
          ]
        }
      ],
      "source": [
        "recommended_movies=pd.Series()\n",
        "\n",
        "for i in range(0,2):\n",
        "    movie=all_movie_correlations[test_movies['Movie_Name'][i]].dropna()\n",
        "    movie=movie.map(lambda movie_corr: movie_corr*test_movies[\"Movie_Rating\"][i])\n",
        "    recommended_movies=recommended_movies.append(movie)"
      ]
    },
    {
      "cell_type": "code",
      "execution_count": null,
      "id": "28093db8",
      "metadata": {
        "id": "28093db8",
        "outputId": "7dd38d3e-255d-4289-94c0-4ef9753c48c0"
      },
      "outputs": [
        {
          "data": {
            "text/plain": [
              "2001: A Space Odyssey (1968)                  0.766231\n",
              "300 (2007)                                    1.286094\n",
              "40-Year-Old Virgin, The (2005)                0.626066\n",
              "Ace Ventura: Pet Detective (1994)             0.551479\n",
              "Ace Ventura: When Nature Calls (1995)         1.687472\n",
              "                                                ...   \n",
              "Who Framed Roger Rabbit? (1988)               0.874334\n",
              "Willy Wonka & the Chocolate Factory (1971)    0.663971\n",
              "Wizard of Oz, The (1939)                     -0.971160\n",
              "X-Men (2000)                                 -0.063318\n",
              "X2: X-Men United (2003)                      -0.661265\n",
              "Length: 529, dtype: float64"
            ]
          },
          "execution_count": 60,
          "metadata": {},
          "output_type": "execute_result"
        }
      ],
      "source": [
        "recommended_movies"
      ]
    },
    {
      "cell_type": "markdown",
      "id": "da6a60f9",
      "metadata": {
        "id": "da6a60f9"
      },
      "source": [
        "To get a final recommendation, you can sort the movies in the descending order of the weighted correlation"
      ]
    },
    {
      "cell_type": "code",
      "execution_count": null,
      "id": "853ba6f0",
      "metadata": {
        "id": "853ba6f0",
        "outputId": "694c5e92-56be-4a05-9003-17979b060127"
      },
      "outputs": [
        {
          "name": "stdout",
          "output_type": "stream",
          "text": [
            "Forrest Gump (1994)                           4.000000\n",
            "Fight Club (1999)                             3.500000\n",
            "Mr. Holland's Opus (1995)                     2.608575\n",
            "Lock, Stock & Two Smoking Barrels (1998)      2.570366\n",
            "Django Unchained (2012)                       2.225161\n",
            "Life Is Beautiful (La Vita è bella) (1997)    2.203741\n",
            "Pocahontas (1995)                             2.200471\n",
            "Big (1988)                                    1.969404\n",
            "Good Will Hunting (1997)                      1.936169\n",
            "Pulp Fiction (1994)                           1.902128\n",
            "dtype: float64\n"
          ]
        }
      ],
      "source": [
        "recommended_movies.sort_values(inplace=True, ascending=False)\n",
        "\n",
        "print(recommended_movies.head(10))"
      ]
    },
    {
      "cell_type": "code",
      "execution_count": null,
      "id": "35d1f7ea",
      "metadata": {
        "id": "35d1f7ea"
      },
      "outputs": [],
      "source": []
    },
    {
      "cell_type": "code",
      "execution_count": null,
      "id": "3bf8666b",
      "metadata": {
        "id": "3bf8666b"
      },
      "outputs": [],
      "source": []
    }
  ],
  "metadata": {
    "kernelspec": {
      "display_name": "Python 3 (ipykernel)",
      "language": "python",
      "name": "python3"
    },
    "language_info": {
      "codemirror_mode": {
        "name": "ipython",
        "version": 3
      },
      "file_extension": ".py",
      "mimetype": "text/x-python",
      "name": "python",
      "nbconvert_exporter": "python",
      "pygments_lexer": "ipython3",
      "version": "3.9.12"
    },
    "colab": {
      "provenance": []
    }
  },
  "nbformat": 4,
  "nbformat_minor": 5
}